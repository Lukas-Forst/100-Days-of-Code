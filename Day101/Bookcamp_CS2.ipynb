{
 "cells": [
  {
   "cell_type": "code",
   "execution_count": 1,
   "metadata": {},
   "outputs": [],
   "source": [
    "from scipy import stats"
   ]
  },
  {
   "cell_type": "code",
   "execution_count": 2,
   "metadata": {},
   "outputs": [
    {
     "name": "stdout",
     "output_type": "stream",
     "text": [
      "Probability of observing more than 15 heads or 15 tails is 0.01181793212890625\n"
     ]
    }
   ],
   "source": [
    "num_heads = 16\n",
    "num_flips = 20\n",
    "prob_head = 0.5\n",
    "prob = stats.binom_test(num_heads, num_flips, prob_head)\n",
    "print(f\"Probability of observing more than 15 heads or 15 tails is {prob:.17f}\")"
   ]
  },
  {
   "cell_type": "code",
   "execution_count": 4,
   "metadata": {},
   "outputs": [
    {
     "name": "stdout",
     "output_type": "stream",
     "text": [
      "The probability of seeing 16 of 20 heads is 0.004620552062988271\n"
     ]
    }
   ],
   "source": [
    "prob_16_heads = stats.binom.pmf(num_heads, num_flips, prob_head)\n",
    "print(f\"The probability of seeing {num_heads} of {num_flips} heads is {prob_16_heads}\")"
   ]
  },
  {
   "cell_type": "code",
   "execution_count": 5,
   "metadata": {},
   "outputs": [],
   "source": [
    "probabilities = stats.binom.pmf([4, 16], num_flips, prob_head)\n",
    "assert probabilities.tolist() == [prob_16_heads] * 2"
   ]
  },
  {
   "cell_type": "code",
   "execution_count": 6,
   "metadata": {},
   "outputs": [
    {
     "name": "stdout",
     "output_type": "stream",
     "text": [
      "Total sum of probabilities equals 1.00000000000000\n"
     ]
    }
   ],
   "source": [
    "interval_all_counts = range(21)\n",
    "probabilities = stats.binom.pmf(interval_all_counts, num_flips, prob_head)\n",
    "total_prob = probabilities.sum()\n",
    "print(f\"Total sum of probabilities equals {total_prob:.14f}\")"
   ]
  },
  {
   "cell_type": "code",
   "execution_count": null,
   "metadata": {},
   "outputs": [],
   "source": []
  }
 ],
 "metadata": {
  "kernelspec": {
   "display_name": "Python 3",
   "language": "python",
   "name": "python3"
  },
  "language_info": {
   "codemirror_mode": {
    "name": "ipython",
    "version": 3
   },
   "file_extension": ".py",
   "mimetype": "text/x-python",
   "name": "python",
   "nbconvert_exporter": "python",
   "pygments_lexer": "ipython3",
   "version": "3.7.7"
  }
 },
 "nbformat": 4,
 "nbformat_minor": 4
}
