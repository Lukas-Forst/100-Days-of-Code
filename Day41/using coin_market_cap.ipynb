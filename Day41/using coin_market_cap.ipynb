{
 "cells": [
  {
   "cell_type": "code",
   "execution_count": 5,
   "metadata": {},
   "outputs": [],
   "source": [
    "from requests import Request, Session\n",
    "from requests.exceptions import ConnectionError, Timeout, TooManyRedirects\n",
    "import json\n",
    "\n",
    "url = 'https://pro-api.coinmarketcap.com/v1/cryptocurrency/listings/latest'\n",
    "parameters = {\n",
    "  'limit': 10\n",
    "}\n",
    "headers = {\n",
    "  'Accepts': 'application/json',\n",
    "  'X-CMC_PRO_API_KEY': '',\n",
    "}\n",
    "\n",
    "session = Session()\n",
    "session.headers.update(headers)\n",
    "\n",
    "try:\n",
    "    response = session.get(url, params=parameters)\n",
    "\n",
    "    with open('data.json', 'w') as f:\n",
    "        json.dump(response.text, f)\n",
    "    #data = json.loads(response.text)\n",
    "    #print(data)\n",
    "except (ConnectionError, Timeout, TooManyRedirects) as e:\n",
    "    print(e)"
   ]
  },
  {
   "cell_type": "code",
   "execution_count": 13,
   "metadata": {},
   "outputs": [
    {
     "name": "stdout",
     "output_type": "stream",
     "text": [
      "Collecting pandas_datareader\n",
      "  Downloading pandas_datareader-0.10.0-py3-none-any.whl (109 kB)\n",
      "Requirement already satisfied: requests>=2.19.0 in d:\\anaconda3\\lib\\site-packages (from pandas_datareader) (2.25.1)\n",
      "Requirement already satisfied: pandas>=0.23 in d:\\anaconda3\\lib\\site-packages (from pandas_datareader) (1.0.3)\n",
      "Requirement already satisfied: lxml in d:\\anaconda3\\lib\\site-packages (from pandas_datareader) (4.6.2)\n",
      "Requirement already satisfied: pytz>=2017.2 in c:\\users\\lukas\\appdata\\roaming\\python\\python37\\site-packages (from pandas>=0.23->pandas_datareader) (2018.9)\n",
      "Requirement already satisfied: python-dateutil>=2.6.1 in c:\\users\\lukas\\appdata\\roaming\\python\\python37\\site-packages (from pandas>=0.23->pandas_datareader) (2.7.5)\n",
      "Requirement already satisfied: numpy>=1.13.3 in c:\\users\\lukas\\appdata\\roaming\\python\\python37\\site-packages (from pandas>=0.23->pandas_datareader) (1.21.4)\n",
      "Requirement already satisfied: six>=1.5 in d:\\anaconda3\\lib\\site-packages (from python-dateutil>=2.6.1->pandas>=0.23->pandas_datareader) (1.15.0)\n",
      "Requirement already satisfied: chardet<5,>=3.0.2 in c:\\users\\lukas\\appdata\\roaming\\python\\python37\\site-packages (from requests>=2.19.0->pandas_datareader) (3.0.4)\n",
      "Requirement already satisfied: idna<3,>=2.5 in c:\\users\\lukas\\appdata\\roaming\\python\\python37\\site-packages (from requests>=2.19.0->pandas_datareader) (2.8)\n",
      "Requirement already satisfied: certifi>=2017.4.17 in c:\\users\\lukas\\appdata\\roaming\\python\\python37\\site-packages (from requests>=2.19.0->pandas_datareader) (2019.3.9)\n",
      "Requirement already satisfied: urllib3<1.27,>=1.21.1 in c:\\users\\lukas\\appdata\\roaming\\python\\python37\\site-packages (from requests>=2.19.0->pandas_datareader) (1.24.1)\n",
      "Installing collected packages: pandas-datareader\n",
      "Successfully installed pandas-datareader-0.10.0\n"
     ]
    },
    {
     "name": "stderr",
     "output_type": "stream",
     "text": [
      "WARNING: Ignoring invalid distribution -ymongo (c:\\users\\lukas\\appdata\\roaming\\python\\python37\\site-packages)\n",
      "WARNING: Ignoring invalid distribution -umpy (d:\\anaconda3\\lib\\site-packages)\n",
      "WARNING: Ignoring invalid distribution -orch (d:\\anaconda3\\lib\\site-packages)\n",
      "WARNING: Ignoring invalid distribution -ip (d:\\anaconda3\\lib\\site-packages)\n",
      "WARNING: Ignoring invalid distribution -ymongo (c:\\users\\lukas\\appdata\\roaming\\python\\python37\\site-packages)\n",
      "WARNING: Ignoring invalid distribution -umpy (d:\\anaconda3\\lib\\site-packages)\n",
      "WARNING: Ignoring invalid distribution -orch (d:\\anaconda3\\lib\\site-packages)\n",
      "WARNING: Ignoring invalid distribution -ip (d:\\anaconda3\\lib\\site-packages)\n",
      "WARNING: Ignoring invalid distribution -ymongo (c:\\users\\lukas\\appdata\\roaming\\python\\python37\\site-packages)\n",
      "WARNING: Ignoring invalid distribution -umpy (d:\\anaconda3\\lib\\site-packages)\n",
      "WARNING: Ignoring invalid distribution -orch (d:\\anaconda3\\lib\\site-packages)\n",
      "WARNING: Ignoring invalid distribution -ip (d:\\anaconda3\\lib\\site-packages)\n",
      "WARNING: Ignoring invalid distribution -umpy (d:\\anaconda3\\lib\\site-packages)\n",
      "WARNING: Ignoring invalid distribution -orch (d:\\anaconda3\\lib\\site-packages)\n",
      "WARNING: Ignoring invalid distribution -ip (d:\\anaconda3\\lib\\site-packages)\n",
      "WARNING: Ignoring invalid distribution -ymongo (c:\\users\\lukas\\appdata\\roaming\\python\\python37\\site-packages)\n",
      "WARNING: Ignoring invalid distribution -umpy (d:\\anaconda3\\lib\\site-packages)\n",
      "WARNING: Ignoring invalid distribution -orch (d:\\anaconda3\\lib\\site-packages)\n",
      "WARNING: Ignoring invalid distribution -ip (d:\\anaconda3\\lib\\site-packages)\n",
      "WARNING: Ignoring invalid distribution -ymongo (c:\\users\\lukas\\appdata\\roaming\\python\\python37\\site-packages)\n",
      "WARNING: Ignoring invalid distribution -umpy (d:\\anaconda3\\lib\\site-packages)\n",
      "WARNING: Ignoring invalid distribution -orch (d:\\anaconda3\\lib\\site-packages)\n",
      "WARNING: Ignoring invalid distribution -ip (d:\\anaconda3\\lib\\site-packages)\n",
      "WARNING: Ignoring invalid distribution -ymongo (c:\\users\\lukas\\appdata\\roaming\\python\\python37\\site-packages)\n",
      "WARNING: Ignoring invalid distribution -umpy (d:\\anaconda3\\lib\\site-packages)\n",
      "WARNING: Ignoring invalid distribution -orch (d:\\anaconda3\\lib\\site-packages)\n",
      "WARNING: Ignoring invalid distribution -ip (d:\\anaconda3\\lib\\site-packages)\n"
     ]
    }
   ],
   "source": [
    "!pip install pandas_datareader\n",
    "!pip install investpy"
   ]
  },
  {
   "cell_type": "code",
   "execution_count": 14,
   "metadata": {},
   "outputs": [],
   "source": [
    "import pandas_datareader as pdr\n",
    "# Request data via Yahoo public API\n",
    "data = pdr.get_data_yahoo('NVDA')"
   ]
  },
  {
   "cell_type": "code",
   "execution_count": 27,
   "metadata": {},
   "outputs": [
    {
     "data": {
      "text/html": [
       "<div>\n",
       "<style scoped>\n",
       "    .dataframe tbody tr th:only-of-type {\n",
       "        vertical-align: middle;\n",
       "    }\n",
       "\n",
       "    .dataframe tbody tr th {\n",
       "        vertical-align: top;\n",
       "    }\n",
       "\n",
       "    .dataframe thead th {\n",
       "        text-align: right;\n",
       "    }\n",
       "</style>\n",
       "<table border=\"1\" class=\"dataframe\">\n",
       "  <thead>\n",
       "    <tr style=\"text-align: right;\">\n",
       "      <th></th>\n",
       "      <th>High</th>\n",
       "      <th>Low</th>\n",
       "      <th>Open</th>\n",
       "      <th>Close</th>\n",
       "      <th>Volume</th>\n",
       "      <th>Adj Close</th>\n",
       "    </tr>\n",
       "    <tr>\n",
       "      <th>Date</th>\n",
       "      <th></th>\n",
       "      <th></th>\n",
       "      <th></th>\n",
       "      <th></th>\n",
       "      <th></th>\n",
       "      <th></th>\n",
       "    </tr>\n",
       "  </thead>\n",
       "  <tbody>\n",
       "    <tr>\n",
       "      <th>2016-12-13</th>\n",
       "      <td>92.290001</td>\n",
       "      <td>90.050003</td>\n",
       "      <td>90.089996</td>\n",
       "      <td>91.169998</td>\n",
       "      <td>9694874.0</td>\n",
       "      <td>90.851768</td>\n",
       "    </tr>\n",
       "    <tr>\n",
       "      <th>2016-12-14</th>\n",
       "      <td>97.110001</td>\n",
       "      <td>91.570000</td>\n",
       "      <td>92.540001</td>\n",
       "      <td>96.449997</td>\n",
       "      <td>24599538.0</td>\n",
       "      <td>96.113319</td>\n",
       "    </tr>\n",
       "    <tr>\n",
       "      <th>2016-12-15</th>\n",
       "      <td>99.940002</td>\n",
       "      <td>96.599998</td>\n",
       "      <td>96.900002</td>\n",
       "      <td>98.709999</td>\n",
       "      <td>18663653.0</td>\n",
       "      <td>98.365448</td>\n",
       "    </tr>\n",
       "    <tr>\n",
       "      <th>2016-12-16</th>\n",
       "      <td>100.699997</td>\n",
       "      <td>97.725998</td>\n",
       "      <td>99.830002</td>\n",
       "      <td>100.410004</td>\n",
       "      <td>27238183.0</td>\n",
       "      <td>100.059525</td>\n",
       "    </tr>\n",
       "    <tr>\n",
       "      <th>2016-12-19</th>\n",
       "      <td>102.449898</td>\n",
       "      <td>99.000000</td>\n",
       "      <td>99.699997</td>\n",
       "      <td>101.629997</td>\n",
       "      <td>18616431.0</td>\n",
       "      <td>101.275276</td>\n",
       "    </tr>\n",
       "  </tbody>\n",
       "</table>\n",
       "</div>"
      ],
      "text/plain": [
       "                  High        Low       Open       Close      Volume  \\\n",
       "Date                                                                   \n",
       "2016-12-13   92.290001  90.050003  90.089996   91.169998   9694874.0   \n",
       "2016-12-14   97.110001  91.570000  92.540001   96.449997  24599538.0   \n",
       "2016-12-15   99.940002  96.599998  96.900002   98.709999  18663653.0   \n",
       "2016-12-16  100.699997  97.725998  99.830002  100.410004  27238183.0   \n",
       "2016-12-19  102.449898  99.000000  99.699997  101.629997  18616431.0   \n",
       "\n",
       "             Adj Close  \n",
       "Date                    \n",
       "2016-12-13   90.851768  \n",
       "2016-12-14   96.113319  \n",
       "2016-12-15   98.365448  \n",
       "2016-12-16  100.059525  \n",
       "2016-12-19  101.275276  "
      ]
     },
     "execution_count": 27,
     "metadata": {},
     "output_type": "execute_result"
    }
   ],
   "source": [
    "data.head()"
   ]
  },
  {
   "cell_type": "code",
   "execution_count": 31,
   "metadata": {},
   "outputs": [
    {
     "data": {
      "text/plain": [
       "<AxesSubplot:xlabel='Date'>"
      ]
     },
     "execution_count": 31,
     "metadata": {},
     "output_type": "execute_result"
    },
    {
     "data": {
      "image/png": "[encoded data removed]",
      "text/plain": [
       "<Figure size 432x288 with 1 Axes>"
      ]
     },
     "metadata": {
      "needs_background": "light"
     },
     "output_type": "display_data"
    }
   ],
   "source": [
    "t=data[['High','Low']]\n",
    "t.plot()"
   ]
  },
  {
   "cell_type": "code",
   "execution_count": 21,
   "metadata": {},
   "outputs": [
    {
     "ename": "TypeError",
     "evalue": "Cannot interpret '<attribute 'dtype' of 'numpy.generic' objects>' as a data type",
     "output_type": "error",
     "traceback": [
      "\u001b[1;31m---------------------------------------------------------------------------\u001b[0m",
      "\u001b[1;31mTypeError\u001b[0m                                 Traceback (most recent call last)",
      "\u001b[1;32m<ipython-input-21-51ecda8ae20f>\u001b[0m in \u001b[0;36m<module>\u001b[1;34m\u001b[0m\n\u001b[1;32m----> 1\u001b[1;33m \u001b[0mdata\u001b[0m \u001b[1;33m=\u001b[0m \u001b[0myf\u001b[0m\u001b[1;33m.\u001b[0m\u001b[0mTicker\u001b[0m\u001b[1;33m(\u001b[0m\u001b[1;34m\"NVDA\"\u001b[0m\u001b[1;33m)\u001b[0m\u001b[1;33m.\u001b[0m\u001b[0mhistory\u001b[0m\u001b[1;33m(\u001b[0m\u001b[0mperiod\u001b[0m\u001b[1;33m=\u001b[0m\u001b[1;34m'5y'\u001b[0m\u001b[1;33m)\u001b[0m\u001b[1;33m\u001b[0m\u001b[1;33m\u001b[0m\u001b[0m\n\u001b[0m",
      "\u001b[1;32mD:\\Anaconda3\\lib\\site-packages\\yfinance\\base.py\u001b[0m in \u001b[0;36m__init__\u001b[1;34m(self, ticker)\u001b[0m\n\u001b[0;32m     62\u001b[0m         \u001b[0mself\u001b[0m\u001b[1;33m.\u001b[0m\u001b[0m_mutualfund_holders\u001b[0m \u001b[1;33m=\u001b[0m \u001b[1;32mNone\u001b[0m\u001b[1;33m\u001b[0m\u001b[1;33m\u001b[0m\u001b[0m\n\u001b[0;32m     63\u001b[0m         \u001b[0mself\u001b[0m\u001b[1;33m.\u001b[0m\u001b[0m_isin\u001b[0m \u001b[1;33m=\u001b[0m \u001b[1;32mNone\u001b[0m\u001b[1;33m\u001b[0m\u001b[1;33m\u001b[0m\u001b[0m\n\u001b[1;32m---> 64\u001b[1;33m         \u001b[0mself\u001b[0m\u001b[1;33m.\u001b[0m\u001b[0m_news\u001b[0m \u001b[1;33m=\u001b[0m \u001b[1;33m[\u001b[0m\u001b[1;33m]\u001b[0m\u001b[1;33m\u001b[0m\u001b[1;33m\u001b[0m\u001b[0m\n\u001b[0m\u001b[0;32m     65\u001b[0m \u001b[1;33m\u001b[0m\u001b[0m\n\u001b[0;32m     66\u001b[0m         \u001b[0mself\u001b[0m\u001b[1;33m.\u001b[0m\u001b[0m_calendar\u001b[0m \u001b[1;33m=\u001b[0m \u001b[1;32mNone\u001b[0m\u001b[1;33m\u001b[0m\u001b[1;33m\u001b[0m\u001b[0m\n",
      "\u001b[1;32mD:\\Anaconda3\\lib\\site-packages\\yfinance\\utils.py\u001b[0m in \u001b[0;36mempty_df\u001b[1;34m(index)\u001b[0m\n\u001b[0;32m     38\u001b[0m \u001b[1;33m\u001b[0m\u001b[0m\n\u001b[0;32m     39\u001b[0m \u001b[1;32mdef\u001b[0m \u001b[0mis_isin\u001b[0m\u001b[1;33m(\u001b[0m\u001b[0mstring\u001b[0m\u001b[1;33m)\u001b[0m\u001b[1;33m:\u001b[0m\u001b[1;33m\u001b[0m\u001b[1;33m\u001b[0m\u001b[0m\n\u001b[1;32m---> 40\u001b[1;33m     \u001b[1;32mreturn\u001b[0m \u001b[0mbool\u001b[0m\u001b[1;33m(\u001b[0m\u001b[0m_re\u001b[0m\u001b[1;33m.\u001b[0m\u001b[0mmatch\u001b[0m\u001b[1;33m(\u001b[0m\u001b[1;34m\"^([A-Z]{2})([A-Z0-9]{9})([0-9]{1})$\"\u001b[0m\u001b[1;33m,\u001b[0m \u001b[0mstring\u001b[0m\u001b[1;33m)\u001b[0m\u001b[1;33m)\u001b[0m\u001b[1;33m\u001b[0m\u001b[1;33m\u001b[0m\u001b[0m\n\u001b[0m\u001b[0;32m     41\u001b[0m \u001b[1;33m\u001b[0m\u001b[0m\n\u001b[0;32m     42\u001b[0m \u001b[1;33m\u001b[0m\u001b[0m\n",
      "\u001b[1;32mD:\\Anaconda3\\lib\\site-packages\\pandas\\core\\frame.py\u001b[0m in \u001b[0;36m__init__\u001b[1;34m(self, data, index, columns, dtype, copy)\u001b[0m\n\u001b[0;32m    433\u001b[0m             )\n\u001b[0;32m    434\u001b[0m         \u001b[1;32melif\u001b[0m \u001b[0misinstance\u001b[0m\u001b[1;33m(\u001b[0m\u001b[0mdata\u001b[0m\u001b[1;33m,\u001b[0m \u001b[0mdict\u001b[0m\u001b[1;33m)\u001b[0m\u001b[1;33m:\u001b[0m\u001b[1;33m\u001b[0m\u001b[1;33m\u001b[0m\u001b[0m\n\u001b[1;32m--> 435\u001b[1;33m             \u001b[0mmgr\u001b[0m \u001b[1;33m=\u001b[0m \u001b[0minit_dict\u001b[0m\u001b[1;33m(\u001b[0m\u001b[0mdata\u001b[0m\u001b[1;33m,\u001b[0m \u001b[0mindex\u001b[0m\u001b[1;33m,\u001b[0m \u001b[0mcolumns\u001b[0m\u001b[1;33m,\u001b[0m \u001b[0mdtype\u001b[0m\u001b[1;33m=\u001b[0m\u001b[0mdtype\u001b[0m\u001b[1;33m)\u001b[0m\u001b[1;33m\u001b[0m\u001b[1;33m\u001b[0m\u001b[0m\n\u001b[0m\u001b[0;32m    436\u001b[0m         \u001b[1;32melif\u001b[0m \u001b[0misinstance\u001b[0m\u001b[1;33m(\u001b[0m\u001b[0mdata\u001b[0m\u001b[1;33m,\u001b[0m \u001b[0mma\u001b[0m\u001b[1;33m.\u001b[0m\u001b[0mMaskedArray\u001b[0m\u001b[1;33m)\u001b[0m\u001b[1;33m:\u001b[0m\u001b[1;33m\u001b[0m\u001b[1;33m\u001b[0m\u001b[0m\n\u001b[0;32m    437\u001b[0m             \u001b[1;32mimport\u001b[0m \u001b[0mnumpy\u001b[0m\u001b[1;33m.\u001b[0m\u001b[0mma\u001b[0m\u001b[1;33m.\u001b[0m\u001b[0mmrecords\u001b[0m \u001b[1;32mas\u001b[0m \u001b[0mmrecords\u001b[0m\u001b[1;33m\u001b[0m\u001b[1;33m\u001b[0m\u001b[0m\n",
      "\u001b[1;32mD:\\Anaconda3\\lib\\site-packages\\pandas\\core\\internals\\construction.py\u001b[0m in \u001b[0;36minit_dict\u001b[1;34m(data, index, columns, dtype)\u001b[0m\n\u001b[0;32m    252\u001b[0m             \u001b[0marr\u001b[0m \u001b[1;32mif\u001b[0m \u001b[1;32mnot\u001b[0m \u001b[0mis_datetime64tz_dtype\u001b[0m\u001b[1;33m(\u001b[0m\u001b[0marr\u001b[0m\u001b[1;33m)\u001b[0m \u001b[1;32melse\u001b[0m \u001b[0marr\u001b[0m\u001b[1;33m.\u001b[0m\u001b[0mcopy\u001b[0m\u001b[1;33m(\u001b[0m\u001b[1;33m)\u001b[0m \u001b[1;32mfor\u001b[0m \u001b[0marr\u001b[0m \u001b[1;32min\u001b[0m \u001b[0marrays\u001b[0m\u001b[1;33m\u001b[0m\u001b[1;33m\u001b[0m\u001b[0m\n\u001b[0;32m    253\u001b[0m         ]\n\u001b[1;32m--> 254\u001b[1;33m     \u001b[1;32mreturn\u001b[0m \u001b[0marrays_to_mgr\u001b[0m\u001b[1;33m(\u001b[0m\u001b[0marrays\u001b[0m\u001b[1;33m,\u001b[0m \u001b[0mdata_names\u001b[0m\u001b[1;33m,\u001b[0m \u001b[0mindex\u001b[0m\u001b[1;33m,\u001b[0m \u001b[0mcolumns\u001b[0m\u001b[1;33m,\u001b[0m \u001b[0mdtype\u001b[0m\u001b[1;33m=\u001b[0m\u001b[0mdtype\u001b[0m\u001b[1;33m)\u001b[0m\u001b[1;33m\u001b[0m\u001b[1;33m\u001b[0m\u001b[0m\n\u001b[0m\u001b[0;32m    255\u001b[0m \u001b[1;33m\u001b[0m\u001b[0m\n\u001b[0;32m    256\u001b[0m \u001b[1;33m\u001b[0m\u001b[0m\n",
      "\u001b[1;32mD:\\Anaconda3\\lib\\site-packages\\pandas\\core\\internals\\construction.py\u001b[0m in \u001b[0;36marrays_to_mgr\u001b[1;34m(arrays, arr_names, index, columns, dtype)\u001b[0m\n\u001b[0;32m     67\u001b[0m \u001b[1;33m\u001b[0m\u001b[0m\n\u001b[0;32m     68\u001b[0m     \u001b[1;31m# don't force copy because getting jammed in an ndarray anyway\u001b[0m\u001b[1;33m\u001b[0m\u001b[1;33m\u001b[0m\u001b[1;33m\u001b[0m\u001b[0m\n\u001b[1;32m---> 69\u001b[1;33m     \u001b[0marrays\u001b[0m \u001b[1;33m=\u001b[0m \u001b[0m_homogenize\u001b[0m\u001b[1;33m(\u001b[0m\u001b[0marrays\u001b[0m\u001b[1;33m,\u001b[0m \u001b[0mindex\u001b[0m\u001b[1;33m,\u001b[0m \u001b[0mdtype\u001b[0m\u001b[1;33m)\u001b[0m\u001b[1;33m\u001b[0m\u001b[1;33m\u001b[0m\u001b[0m\n\u001b[0m\u001b[0;32m     70\u001b[0m \u001b[1;33m\u001b[0m\u001b[0m\n\u001b[0;32m     71\u001b[0m     \u001b[1;31m# from BlockManager perspective\u001b[0m\u001b[1;33m\u001b[0m\u001b[1;33m\u001b[0m\u001b[1;33m\u001b[0m\u001b[0m\n",
      "\u001b[1;32mD:\\Anaconda3\\lib\\site-packages\\pandas\\core\\internals\\construction.py\u001b[0m in \u001b[0;36m_homogenize\u001b[1;34m(data, index, dtype)\u001b[0m\n\u001b[0;32m    321\u001b[0m                 \u001b[0mval\u001b[0m \u001b[1;33m=\u001b[0m \u001b[0mlib\u001b[0m\u001b[1;33m.\u001b[0m\u001b[0mfast_multiget\u001b[0m\u001b[1;33m(\u001b[0m\u001b[0mval\u001b[0m\u001b[1;33m,\u001b[0m \u001b[0moindex\u001b[0m\u001b[1;33m.\u001b[0m\u001b[0mvalues\u001b[0m\u001b[1;33m,\u001b[0m \u001b[0mdefault\u001b[0m\u001b[1;33m=\u001b[0m\u001b[0mnp\u001b[0m\u001b[1;33m.\u001b[0m\u001b[0mnan\u001b[0m\u001b[1;33m)\u001b[0m\u001b[1;33m\u001b[0m\u001b[1;33m\u001b[0m\u001b[0m\n\u001b[0;32m    322\u001b[0m             val = sanitize_array(\n\u001b[1;32m--> 323\u001b[1;33m                 \u001b[0mval\u001b[0m\u001b[1;33m,\u001b[0m \u001b[0mindex\u001b[0m\u001b[1;33m,\u001b[0m \u001b[0mdtype\u001b[0m\u001b[1;33m=\u001b[0m\u001b[0mdtype\u001b[0m\u001b[1;33m,\u001b[0m \u001b[0mcopy\u001b[0m\u001b[1;33m=\u001b[0m\u001b[1;32mFalse\u001b[0m\u001b[1;33m,\u001b[0m \u001b[0mraise_cast_failure\u001b[0m\u001b[1;33m=\u001b[0m\u001b[1;32mFalse\u001b[0m\u001b[1;33m\u001b[0m\u001b[1;33m\u001b[0m\u001b[0m\n\u001b[0m\u001b[0;32m    324\u001b[0m             )\n\u001b[0;32m    325\u001b[0m \u001b[1;33m\u001b[0m\u001b[0m\n",
      "\u001b[1;32mD:\\Anaconda3\\lib\\site-packages\\pandas\\core\\construction.py\u001b[0m in \u001b[0;36msanitize_array\u001b[1;34m(data, index, dtype, copy, raise_cast_failure)\u001b[0m\n\u001b[0;32m    463\u001b[0m                 \u001b[0mvalue\u001b[0m \u001b[1;33m=\u001b[0m \u001b[0mmaybe_cast_to_datetime\u001b[0m\u001b[1;33m(\u001b[0m\u001b[0mvalue\u001b[0m\u001b[1;33m,\u001b[0m \u001b[0mdtype\u001b[0m\u001b[1;33m)\u001b[0m\u001b[1;33m\u001b[0m\u001b[1;33m\u001b[0m\u001b[0m\n\u001b[0;32m    464\u001b[0m \u001b[1;33m\u001b[0m\u001b[0m\n\u001b[1;32m--> 465\u001b[1;33m             \u001b[0msubarr\u001b[0m \u001b[1;33m=\u001b[0m \u001b[0mconstruct_1d_arraylike_from_scalar\u001b[0m\u001b[1;33m(\u001b[0m\u001b[0mvalue\u001b[0m\u001b[1;33m,\u001b[0m \u001b[0mlen\u001b[0m\u001b[1;33m(\u001b[0m\u001b[0mindex\u001b[0m\u001b[1;33m)\u001b[0m\u001b[1;33m,\u001b[0m \u001b[0mdtype\u001b[0m\u001b[1;33m)\u001b[0m\u001b[1;33m\u001b[0m\u001b[1;33m\u001b[0m\u001b[0m\n\u001b[0m\u001b[0;32m    466\u001b[0m \u001b[1;33m\u001b[0m\u001b[0m\n\u001b[0;32m    467\u001b[0m         \u001b[1;32melse\u001b[0m\u001b[1;33m:\u001b[0m\u001b[1;33m\u001b[0m\u001b[1;33m\u001b[0m\u001b[0m\n",
      "\u001b[1;32mD:\\Anaconda3\\lib\\site-packages\\pandas\\core\\dtypes\\cast.py\u001b[0m in \u001b[0;36mconstruct_1d_arraylike_from_scalar\u001b[1;34m(value, length, dtype)\u001b[0m\n\u001b[0;32m   1450\u001b[0m                 \u001b[0mvalue\u001b[0m \u001b[1;33m=\u001b[0m \u001b[0mensure_str\u001b[0m\u001b[1;33m(\u001b[0m\u001b[0mvalue\u001b[0m\u001b[1;33m)\u001b[0m\u001b[1;33m\u001b[0m\u001b[1;33m\u001b[0m\u001b[0m\n\u001b[0;32m   1451\u001b[0m \u001b[1;33m\u001b[0m\u001b[0m\n\u001b[1;32m-> 1452\u001b[1;33m         \u001b[0msubarr\u001b[0m \u001b[1;33m=\u001b[0m \u001b[0mnp\u001b[0m\u001b[1;33m.\u001b[0m\u001b[0mempty\u001b[0m\u001b[1;33m(\u001b[0m\u001b[0mlength\u001b[0m\u001b[1;33m,\u001b[0m \u001b[0mdtype\u001b[0m\u001b[1;33m=\u001b[0m\u001b[0mdtype\u001b[0m\u001b[1;33m)\u001b[0m\u001b[1;33m\u001b[0m\u001b[1;33m\u001b[0m\u001b[0m\n\u001b[0m\u001b[0;32m   1453\u001b[0m         \u001b[0msubarr\u001b[0m\u001b[1;33m.\u001b[0m\u001b[0mfill\u001b[0m\u001b[1;33m(\u001b[0m\u001b[0mvalue\u001b[0m\u001b[1;33m)\u001b[0m\u001b[1;33m\u001b[0m\u001b[1;33m\u001b[0m\u001b[0m\n\u001b[0;32m   1454\u001b[0m \u001b[1;33m\u001b[0m\u001b[0m\n",
      "\u001b[1;31mTypeError\u001b[0m: Cannot interpret '<attribute 'dtype' of 'numpy.generic' objects>' as a data type"
     ]
    }
   ],
   "source": [
    "data = yf.Ticker(\"NVDA\").history(period='5y')"
   ]
  },
  {
   "cell_type": "code",
   "execution_count": 6,
   "metadata": {},
   "outputs": [
    {
     "name": "stdout",
     "output_type": "stream",
     "text": [
      "\"{\\\"status\\\":{\\\"timestamp\\\":\\\"2021-12-10T23:30:27.363Z\\\",\\\"error_code\\\":0,\\\"error_message\\\":null,\\\"elapsed\\\":18,\\\"credit_count\\\":1,\\\"notice\\\":null,\\\"total_count\\\":8172},\\\"data\\\":[{\\\"id\\\":1,\\\"name\\\":\\\"Bitcoin\\\",\\\"symbol\\\":\\\"BTC\\\",\\\"slug\\\":\\\"bitcoin\\\",\\\"num_market_pairs\\\":8257,\\\"date_added\\\":\\\"2013-04-28T00:00:00.000Z\\\",\\\"tags\\\":[\\\"mineable\\\",\\\"pow\\\",\\\"sha-256\\\",\\\"store-of-value\\\",\\\"state-channel\\\",\\\"coinbase-ventures-portfolio\\\",\\\"three-arrows-capital-portfolio\\\",\\\"polychain-capital-portfolio\\\",\\\"binance-labs-portfolio\\\",\\\"blockchain-capital-portfolio\\\",\\\"boostvc-portfolio\\\",\\\"cms-holdings-portfolio\\\",\\\"dcg-portfolio\\\",\\\"dragonfly-capital-portfolio\\\",\\\"electric-capital-portfolio\\\",\\\"fabric-ventures-portfolio\\\",\\\"framework-ventures-portfolio\\\",\\\"galaxy-digital-portfolio\\\",\\\"huobi-capital-portfolio\\\",\\\"alameda-research-portfolio\\\",\\\"a16z-portfolio\\\",\\\"1confirmation-portfolio\\\",\\\"winklevoss-capital-portfolio\\\",\\\"usv-portfolio\\\",\\\"placeholder-ventures-portfolio\\\",\\\"pantera-capital-portfolio\\\",\\\"multicoin-capital-portfolio\\\",\\\"paradigm-portfolio\\\"],\\\"max_supply\\\":21000000,\\\"circulating_supply\\\":18897443,\\\"total_supply\\\":18897443,\\\"platform\\\":null,\\\"cmc_rank\\\":1,\\\"last_updated\\\":\\\"2021-12-10T23:29:02.000Z\\\",\\\"quote\\\":{\\\"USD\\\":{\\\"price\\\":47638.3411979718,\\\"volume_24h\\\":30634944082.67054,\\\"volume_change_24h\\\":3.2772,\\\"percent_change_1h\\\":-0.58445073,\\\"percent_change_24h\\\":-1.0430644,\\\"percent_change_7d\\\":-11.14134915,\\\"percent_change_30d\\\":-26.18678524,\\\"percent_change_60d\\\":-16.86831652,\\\"percent_change_90d\\\":5.27923315,\\\"market_cap\\\":900242837403.2238,\\\"market_cap_dominance\\\":40.6323,\\\"fully_diluted_market_cap\\\":1000405165157.41,\\\"last_updated\\\":\\\"2021-12-10T23:29:02.000Z\\\"}}},{\\\"id\\\":1027,\\\"name\\\":\\\"Ethereum\\\",\\\"symbol\\\":\\\"ETH\\\",\\\"slug\\\":\\\"ethereum\\\",\\\"num_market_pairs\\\":4633,\\\"date_added\\\":\\\"2015-08-07T00:00:00.000Z\\\",\\\"tags\\\":[\\\"mineable\\\",\\\"pow\\\",\\\"smart-contracts\\\",\\\"ethereum-ecosystem\\\",\\\"binance-smart-chain\\\",\\\"coinbase-ventures-portfolio\\\",\\\"three-arrows-capital-portfolio\\\",\\\"polychain-capital-portfolio\\\",\\\"binance-labs-portfolio\\\",\\\"blockchain-capital-portfolio\\\",\\\"boostvc-portfolio\\\",\\\"cms-holdings-portfolio\\\",\\\"dcg-portfolio\\\",\\\"dragonfly-capital-portfolio\\\",\\\"electric-capital-portfolio\\\",\\\"fabric-ventures-portfolio\\\",\\\"framework-ventures-portfolio\\\",\\\"hashkey-capital-portfolio\\\",\\\"kenetic-capital-portfolio\\\",\\\"huobi-capital-portfolio\\\",\\\"alameda-research-portfolio\\\",\\\"a16z-portfolio\\\",\\\"1confirmation-portfolio\\\",\\\"winklevoss-capital-portfolio\\\",\\\"usv-portfolio\\\",\\\"placeholder-ventures-portfolio\\\",\\\"pantera-capital-portfolio\\\",\\\"multicoin-capital-portfolio\\\",\\\"paradigm-portfolio\\\"],\\\"max_supply\\\":null,\\\"circulating_supply\\\":118686631.0615,\\\"total_supply\\\":118686631.0615,\\\"platform\\\":null,\\\"cmc_rank\\\":2,\\\"last_updated\\\":\\\"2021-12-10T23:29:02.000Z\\\",\\\"quote\\\":{\\\"USD\\\":{\\\"price\\\":3959.0832503763795,\\\"volume_24h\\\":27837410284.98901,\\\"volume_change_24h\\\":25.8333,\\\"percent_change_1h\\\":-0.82270323,\\\"percent_change_24h\\\":-5.35226099,\\\"percent_change_7d\\\":-6.48019767,\\\"percent_change_30d\\\":-13.9697529,\\\"percent_change_60d\\\":12.54759914,\\\"percent_change_90d\\\":21.02410307,\\\"market_cap\\\":469890253079.1856,\\\"market_cap_dominance\\\":21.2348,\\\"fully_diluted_market_cap\\\":469890253079.19,\\\"last_updated\\\":\\\"2021-12-10T23:29:02.000Z\\\"}}},{\\\"id\\\":1839,\\\"name\\\":\\\"Binance Coin\\\",\\\"symbol\\\":\\\"BNB\\\",\\\"slug\\\":\\\"binance-coin\\\",\\\"num_market_pairs\\\":557,\\\"date_added\\\":\\\"2017-07-25T00:00:00.000Z\\\",\\\"tags\\\":[\\\"marketplace\\\",\\\"centralized-exchange\\\",\\\"payments\\\",\\\"smart-contracts\\\",\\\"binance-smart-chain\\\",\\\"alameda-research-portfolio\\\",\\\"multicoin-capital-portfolio\\\"],\\\"max_supply\\\":166801148,\\\"circulating_supply\\\":166801148,\\\"total_supply\\\":166801148,\\\"platform\\\":null,\\\"cmc_rank\\\":3,\\\"last_updated\\\":\\\"2021-12-10T23:28:10.000Z\\\",\\\"quote\\\":{\\\"USD\\\":{\\\"price\\\":561.7189722057915,\\\"volume_24h\\\":2069644999.8864398,\\\"volume_change_24h\\\":-4.3001,\\\"percent_change_1h\\\":-0.48326161,\\\"percent_change_24h\\\":-2.83873682,\\\"percent_change_7d\\\":-5.66292782,\\\"percent_change_30d\\\":-7.1614002,\\\"percent_change_60d\\\":37.01525589,\\\"percent_change_90d\\\":38.59879781,\\\"market_cap\\\":93695369417.3061,\\\"market_cap_dominance\\\":4.2281,\\\"fully_diluted_market_cap\\\":93695369417.31,\\\"last_updated\\\":\\\"2021-12-10T23:28:10.000Z\\\"}}},{\\\"id\\\":825,\\\"name\\\":\\\"Tether\\\",\\\"symbol\\\":\\\"USDT\\\",\\\"slug\\\":\\\"tether\\\",\\\"num_market_pairs\\\":20443,\\\"date_added\\\":\\\"2015-02-25T00:00:00.000Z\\\",\\\"tags\\\":[\\\"payments\\\",\\\"stablecoin\\\",\\\"asset-backed-stablecoin\\\",\\\"binance-smart-chain\\\",\\\"avalanche-ecosystem\\\",\\\"solana-ecosystem\\\"],\\\"max_supply\\\":null,\\\"circulating_supply\\\":76156304083.68591,\\\"total_supply\\\":79351995260.81383,\\\"platform\\\":{\\\"id\\\":1027,\\\"name\\\":\\\"Ethereum\\\",\\\"symbol\\\":\\\"ETH\\\",\\\"slug\\\":\\\"ethereum\\\",\\\"token_address\\\":\\\"0xdac17f958d2ee523a2206206994597c13d831ec7\\\"},\\\"cmc_rank\\\":4,\\\"last_updated\\\":\\\"2021-12-10T23:28:11.000Z\\\",\\\"quote\\\":{\\\"USD\\\":{\\\"price\\\":1.0000775390551948,\\\"volume_24h\\\":68201855836.83384,\\\"volume_change_24h\\\":-2.5923,\\\"percent_change_1h\\\":-0.04882391,\\\"percent_change_24h\\\":-0.18949192,\\\"percent_change_7d\\\":-0.0232898,\\\"percent_change_30d\\\":-0.0795417,\\\"percent_change_60d\\\":-0.0236435,\\\"percent_change_90d\\\":-0.05835365,\\\"market_cap\\\":76162209171.5517,\\\"market_cap_dominance\\\":3.438,\\\"fully_diluted_market_cap\\\":79358148139.55,\\\"last_updated\\\":\\\"2021-12-10T23:28:11.000Z\\\"}}},{\\\"id\\\":5426,\\\"name\\\":\\\"Solana\\\",\\\"symbol\\\":\\\"SOL\\\",\\\"slug\\\":\\\"solana\\\",\\\"num_market_pairs\\\":197,\\\"date_added\\\":\\\"2020-04-10T00:00:00.000Z\\\",\\\"tags\\\":[\\\"pos\\\",\\\"platform\\\",\\\"solana-ecosystem\\\",\\\"cms-holdings-portfolio\\\",\\\"kenetic-capital-portfolio\\\",\\\"alameda-research-portfolio\\\",\\\"multicoin-capital-portfolio\\\",\\\"k300-ventures-portfolio\\\"],\\\"max_supply\\\":null,\\\"circulating_supply\\\":307346834.20104635,\\\"total_supply\\\":510811171.5535482,\\\"platform\\\":null,\\\"cmc_rank\\\":5,\\\"last_updated\\\":\\\"2021-12-10T23:29:05.000Z\\\",\\\"quote\\\":{\\\"USD\\\":{\\\"price\\\":172.1170612810637,\\\"volume_24h\\\":2084227411.9606164,\\\"volume_change_24h\\\":5.7146,\\\"percent_change_1h\\\":-0.12867271,\\\"percent_change_24h\\\":-6.23432006,\\\"percent_change_7d\\\":-19.25530084,\\\"percent_change_30d\\\":-25.47337098,\\\"percent_change_60d\\\":19.24056961,\\\"percent_change_90d\\\":-3.50739315,\\\"market_cap\\\":52899633896.72242,\\\"market_cap_dominance\\\":2.3871,\\\"fully_diluted_market_cap\\\":87919317717.33,\\\"last_updated\\\":\\\"2021-12-10T23:29:05.000Z\\\"}}},{\\\"id\\\":3408,\\\"name\\\":\\\"USD Coin\\\",\\\"symbol\\\":\\\"USDC\\\",\\\"slug\\\":\\\"usd-coin\\\",\\\"num_market_pairs\\\":1783,\\\"date_added\\\":\\\"2018-10-08T00:00:00.000Z\\\",\\\"tags\\\":[\\\"medium-of-exchange\\\",\\\"stablecoin\\\",\\\"asset-backed-stablecoin\\\",\\\"binance-smart-chain\\\",\\\"fantom-ecosystem\\\"],\\\"max_supply\\\":null,\\\"circulating_supply\\\":41396400622.90269,\\\"total_supply\\\":41396400622.90269,\\\"platform\\\":{\\\"id\\\":1027,\\\"name\\\":\\\"Ethereum\\\",\\\"symbol\\\":\\\"ETH\\\",\\\"slug\\\":\\\"ethereum\\\",\\\"token_address\\\":\\\"0xa0b86991c6218b36c1d19d4a2e9eb0ce3606eb48\\\"},\\\"cmc_rank\\\":6,\\\"last_updated\\\":\\\"2021-12-10T23:29:06.000Z\\\",\\\"quote\\\":{\\\"USD\\\":{\\\"price\\\":0.9999501491304624,\\\"volume_24h\\\":5606424517.7056675,\\\"volume_change_24h\\\":6.2898,\\\"percent_change_1h\\\":-0.03945703,\\\"percent_change_24h\\\":-0.00307764,\\\"percent_change_7d\\\":-0.10110464,\\\"percent_change_30d\\\":-0.00916352,\\\"percent_change_60d\\\":-0.02314693,\\\"percent_change_90d\\\":-0.05581437,\\\"market_cap\\\":41394336976.33591,\\\"market_cap_dominance\\\":1.8685,\\\"fully_diluted_market_cap\\\":41394336976.34,\\\"last_updated\\\":\\\"2021-12-10T23:29:06.000Z\\\"}}},{\\\"id\\\":2010,\\\"name\\\":\\\"Cardano\\\",\\\"symbol\\\":\\\"ADA\\\",\\\"slug\\\":\\\"cardano\\\",\\\"num_market_pairs\\\":299,\\\"date_added\\\":\\\"2017-10-01T00:00:00.000Z\\\",\\\"tags\\\":[\\\"mineable\\\",\\\"dpos\\\",\\\"pos\\\",\\\"platform\\\",\\\"research\\\",\\\"smart-contracts\\\",\\\"staking\\\",\\\"binance-smart-chain\\\",\\\"cardano-ecosystem\\\"],\\\"max_supply\\\":45000000000,\\\"circulating_supply\\\":33429046471.537,\\\"total_supply\\\":33824240746.574,\\\"platform\\\":null,\\\"cmc_rank\\\":7,\\\"last_updated\\\":\\\"2021-12-10T23:28:12.000Z\\\",\\\"quote\\\":{\\\"USD\\\":{\\\"price\\\":1.238332942608493,\\\"volume_24h\\\":1679047185.1806562,\\\"volume_change_24h\\\":-0.1343,\\\"percent_change_1h\\\":-1.24580995,\\\"percent_change_24h\\\":-5.35161738,\\\"percent_change_7d\\\":-21.09326375,\\\"percent_change_30d\\\":-40.34643012,\\\"percent_change_60d\\\":-42.57010073,\\\"percent_change_90d\\\":-52.76469086,\\\"market_cap\\\":41396289485.69447,\\\"market_cap_dominance\\\":1.8688,\\\"fully_diluted_market_cap\\\":55724982417.38,\\\"last_updated\\\":\\\"2021-12-10T23:28:12.000Z\\\"}}},{\\\"id\\\":52,\\\"name\\\":\\\"XRP\\\",\\\"symbol\\\":\\\"XRP\\\",\\\"slug\\\":\\\"xrp\\\",\\\"num_market_pairs\\\":620,\\\"date_added\\\":\\\"2013-08-04T00:00:00.000Z\\\",\\\"tags\\\":[\\\"medium-of-exchange\\\",\\\"enterprise-solutions\\\",\\\"binance-chain\\\",\\\"arrington-xrp-capital-portfolio\\\",\\\"galaxy-digital-portfolio\\\",\\\"a16z-portfolio\\\",\\\"pantera-capital-portfolio\\\"],\\\"max_supply\\\":100000000000,\\\"circulating_supply\\\":47247295769,\\\"total_supply\\\":99990075944,\\\"platform\\\":null,\\\"cmc_rank\\\":8,\\\"last_updated\\\":\\\"2021-12-10T23:29:03.000Z\\\",\\\"quote\\\":{\\\"USD\\\":{\\\"price\\\":0.8188977879964625,\\\"volume_24h\\\":3257114417.317079,\\\"volume_change_24h\\\":-29.0799,\\\"percent_change_1h\\\":-0.72851573,\\\"percent_change_24h\\\":-6.89237952,\\\"percent_change_7d\\\":-11.73570526,\\\"percent_change_30d\\\":-30.58763512,\\\"percent_change_60d\\\":-27.45098538,\\\"percent_change_90d\\\":-24.07735062,\\\"market_cap\\\":38690705994.04872,\\\"market_cap_dominance\\\":1.7472,\\\"fully_diluted_market_cap\\\":81889778799.65,\\\"last_updated\\\":\\\"2021-12-10T23:29:03.000Z\\\"}}},{\\\"id\\\":6636,\\\"name\\\":\\\"Polkadot\\\",\\\"symbol\\\":\\\"DOT\\\",\\\"slug\\\":\\\"polkadot-new\\\",\\\"num_market_pairs\\\":247,\\\"date_added\\\":\\\"2020-08-19T00:00:00.000Z\\\",\\\"tags\\\":[\\\"substrate\\\",\\\"polkadot\\\",\\\"binance-chain\\\",\\\"binance-smart-chain\\\",\\\"polkadot-ecosystem\\\",\\\"three-arrows-capital-portfolio\\\",\\\"polychain-capital-portfolio\\\",\\\"arrington-xrp-capital-portfolio\\\",\\\"blockchain-capital-portfolio\\\",\\\"boostvc-portfolio\\\",\\\"cms-holdings-portfolio\\\",\\\"coinfund-portfolio\\\",\\\"fabric-ventures-portfolio\\\",\\\"fenbushi-capital-portfolio\\\",\\\"hashkey-capital-portfolio\\\",\\\"kenetic-capital-portfolio\\\",\\\"1confirmation-portfolio\\\",\\\"placeholder-ventures-portfolio\\\",\\\"pantera-capital-portfolio\\\",\\\"exnetwork-capital-portfolio\\\",\\\"web3\\\"],\\\"max_supply\\\":null,\\\"circulating_supply\\\":987579314.957085,\\\"total_supply\\\":1103303471.382273,\\\"platform\\\":null,\\\"cmc_rank\\\":9,\\\"last_updated\\\":\\\"2021-12-10T23:29:06.000Z\\\",\\\"quote\\\":{\\\"USD\\\":{\\\"price\\\":26.969137565323628,\\\"volume_24h\\\":1331471846.1304476,\\\"volume_change_24h\\\":11.0027,\\\"percent_change_1h\\\":-0.11835601,\\\"percent_change_24h\\\":-1.13312612,\\\"percent_change_7d\\\":-20.10381334,\\\"percent_change_30d\\\":-41.94486397,\\\"percent_change_60d\\\":-20.33841173,\\\"percent_change_90d\\\":-14.28104907,\\\"market_cap\\\":26634162401.745697,\\\"market_cap_dominance\\\":1.2024,\\\"fully_diluted_market_cap\\\":29755143096.01,\\\"last_updated\\\":\\\"2021-12-10T23:29:06.000Z\\\"}}},{\\\"id\\\":4172,\\\"name\\\":\\\"Terra\\\",\\\"symbol\\\":\\\"LUNA\\\",\\\"slug\\\":\\\"terra-luna\\\",\\\"num_market_pairs\\\":110,\\\"date_added\\\":\\\"2019-07-26T00:00:00.000Z\\\",\\\"tags\\\":[\\\"cosmos-ecosystem\\\",\\\"store-of-value\\\",\\\"defi\\\",\\\"payments\\\",\\\"coinbase-ventures-portfolio\\\",\\\"binance-labs-portfolio\\\",\\\"solana-ecosystem\\\",\\\"arrington-xrp-capital-portfolio\\\",\\\"hashkey-capital-portfolio\\\",\\\"kenetic-capital-portfolio\\\",\\\"huobi-capital-portfolio\\\",\\\"pantera-capital-portfolio\\\",\\\"terra-ecosystem\\\"],\\\"max_supply\\\":null,\\\"circulating_supply\\\":378820281.7613822,\\\"total_supply\\\":851813485.102862,\\\"platform\\\":null,\\\"cmc_rank\\\":10,\\\"last_updated\\\":\\\"2021-12-10T23:29:03.000Z\\\",\\\"quote\\\":{\\\"USD\\\":{\\\"price\\\":61.70717528877551,\\\"volume_24h\\\":2597721871.1133623,\\\"volume_change_24h\\\":-14.1234,\\\"percent_change_1h\\\":0.33966502,\\\"percent_change_24h\\\":-9.24802549,\\\"percent_change_7d\\\":-4.98966678,\\\"percent_change_30d\\\":28.06758411,\\\"percent_change_60d\\\":59.36988646,\\\"percent_change_90d\\\":58.47131259,\\\"market_cap\\\":23375929529.59294,\\\"market_cap_dominance\\\":1.0556,\\\"fully_diluted_market_cap\\\":52563004038.59,\\\"last_updated\\\":\\\"2021-12-10T23:29:03.000Z\\\"}}}]}\"\n"
     ]
    }
   ],
   "source": [
    "with open('data.json', 'r') as f:\n",
    "    for i in f:\n",
    "        print(i)"
   ]
  },
  {
   "cell_type": "code",
   "execution_count": null,
   "metadata": {},
   "outputs": [],
   "source": []
  }
 ],
 "metadata": {
  "kernelspec": {
   "display_name": "Python 3",
   "language": "python",
   "name": "python3"
  },
  "language_info": {
   "codemirror_mode": {
    "name": "ipython",
    "version": 3
   },
   "file_extension": ".py",
   "mimetype": "text/x-python",
   "name": "python",
   "nbconvert_exporter": "python",
   "pygments_lexer": "ipython3",
   "version": "3.7.7"
  }
 },
 "nbformat": 4,
 "nbformat_minor": 4
}
