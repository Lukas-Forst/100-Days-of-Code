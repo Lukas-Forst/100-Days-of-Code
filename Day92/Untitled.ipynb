{
 "cells": [
  {
   "cell_type": "code",
   "execution_count": 7,
   "id": "c23e1199-dd70-4e94-8785-21e8a922c8a2",
   "metadata": {},
   "outputs": [],
   "source": [
    "import requests\n",
    "import pandas as pd"
   ]
  },
  {
   "cell_type": "code",
   "execution_count": 2,
   "id": "64025588-86cf-44d0-b06a-15f7b5596ee6",
   "metadata": {},
   "outputs": [
    {
     "name": "stdout",
     "output_type": "stream",
     "text": [
      "<!DOCTYPE html>\n",
      "<html>\n",
      "  <head>\n",
      "    <meta charset=\"utf-8\">\n",
      "    <title>Notion</title>\n",
      "    <style type=\"text/css\">*{box-sizing:border-box}html{margin:0;padding:0}body{-webkit-font-smoothing:auto;align-items:center;background:#fffefc;color:#37352f;display:flex;flex-direction:column;font-family:-apple-system,BlinkMacSystemFont,Segoe UI,Helvetica,Apple Color Emoji,Arial,sans-serif,Segoe UI Emoji,Segoe UI Symbol;height:100vh;justify-content:center;justify-content:space-between;line-height:1.5;margin:0;padding:40px 20px;text-align:center}.top{height:40px}.details{align-items:flex-end;display:flex;font-size:13px;min-height:100px}.details h1{color:#999;display:inline-block;font-size:13px;margin:0 .75em}.details p{display:none}.details ul{color:#999;display:inline-block;margin:0;padding:0}.details li{display:inline-block;list-style:none;margin:0 .75em}.show-details-toggle{color:#999}.main{padding-bottom:20px}.main a{color:#37352f}a:hover{color:#e03e3e}@media screen and (max-width:960px){body{padding:20px}.details h1{margin-bottom:1em}.details h1,.details li{display:block}}</style>\n",
      "    <script type=\"text/javascript\">document.addEventListener(\"click\",function(e){if(e.target.classList.contains(\"show-details-toggle\")){e.preventDefault();var t=document.getElementsByClassName(\"show-details-toggle\")[0],s=document.getElementsByClassName(\"details-expanded\")[0];t.style.display=\"none\",s.style.display=\"block\"}},!1);</script>\n",
      "  \n",
      "\n",
      "</head>\n",
      "  <body>\n",
      "    <div class=\"top\"></div>\n",
      "    <div class=\"main\">\n",
      "      <img\n",
      "        alt=\"Notion\"\n",
      "        style=\"width: 40px; margin: 0 auto; display: block;\"\n",
      "        src=\"data:image/png;base64,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\"\n",
      "      />\n",
      "      <p>\n",
      "        Hmm... something’s not right 🤔<br />\n",
      "        Please visit our\n",
      "        <a target=\"_blank\" href=\"https://status.notion.so/\">status page</a>\n",
      "        for more information.\n",
      "      </p>\n",
      "      <p>We’re working on it!</p>\n",
      "    </div>\n",
      "    <div class=\"details\">\n",
      "      <div class=\"details-collpased\">\n",
      "        <a href=\"#\" class=\"show-details-toggle\">Show error details</a>\n",
      "      </div>\n",
      "      <div style=\"display: none;\" class=\"details-expanded\">\n",
      "        <div class=\"cf-error-details cf-error-504\">\n",
      "  <h1>Gateway time-out</h1>\n",
      "  <p>The web server reported a gateway time-out error.</p>\n",
      "  <ul>\n",
      "    <li>Ray ID: 739acba58f3492b1</li>\n",
      "    <li>Your IP address: 2a02:908:163:71a0:24a1:4c23:8eda:a952</li>\n",
      "    <li>Error reference number: 504</li>\n",
      "    <li>Cloudflare Location: Frankfurt</li>\n",
      "  </ul>\n",
      "</div>\n",
      "\n",
      "      </div>\n",
      "    </div>\n",
      "  </body>\n",
      "</html>\n",
      "\n"
     ]
    }
   ],
   "source": [
    "url = \"https://www.notion.so/8f44d9f375a14afcaab1e220378a3c62?v=a5399df344284f31b8925ca9168dc5d4\"\n",
    "\n",
    "payload = {\"page_size\": 100}\n",
    "headers = {\n",
    "    \"Accept\": \"application/json\",\n",
    "    \"Notion-Version\": \"2022-02-22\",\n",
    "    \"Content-Type\": \"application/json\"\n",
    "}\n",
    "\n",
    "response = requests.post(url, json=payload, headers=headers)\n",
    "\n",
    "print(response.text)"
   ]
  },
  {
   "cell_type": "code",
   "execution_count": 3,
   "id": "71eedd8f-3b48-4db4-bbb0-503f8ec9ca97",
   "metadata": {},
   "outputs": [],
   "source": [
    "import json\n",
    "import requests\n",
    "token = \"\"\n",
    "database_id = \"\""
   ]
  },
  {
   "cell_type": "code",
   "execution_count": 4,
   "id": "538734b0-2681-4ca1-8ad9-5c736ae02bec",
   "metadata": {},
   "outputs": [],
   "source": [
    "def mapNotionResultToMovie(result):\n",
    "  # you can print result here and check the format of the answer.\n",
    "    movie_id = result['id']\n",
    "    properties = result['properties']\n",
    "    #print(result)\n",
    "    Sleep = properties['😴7+ hrs Sleep']['checkbox']\n",
    "    Journaling = properties['✍🏼Journaling']['checkbox']\n",
    "    Coden = properties['Coden']['checkbox']\n",
    "    dehnen = properties['Dehnen']['checkbox']\n",
    "    Training = properties['Training']['checkbox']\n",
    "    SAVERS = properties['SAVERS']['checkbox']\n",
    "    # check for none\n",
    "    if properties['Date']['date'] != None:\n",
    "        Date = properties['Date']['date']['start']\n",
    "    else:\n",
    "        Date = properties['Date']['date']#['start']\n",
    "    return {\n",
    "    'Date': Date,\n",
    "    'Sleep': Sleep,\n",
    "    'Journaling': Journaling,\n",
    "    'Coden': Coden,\n",
    "    'dehnen': dehnen,\n",
    "    \"Training\": Training,\n",
    "    \"SAVERS\": SAVERS\n",
    "    }"
   ]
  },
  {
   "cell_type": "code",
   "execution_count": 5,
   "id": "583c6acc-0cbf-4833-b570-abf318884f0b",
   "metadata": {},
   "outputs": [],
   "source": [
    "def getMovies():\n",
    "    url = f'https://api.notion.com/v1/databases/{database_id}/query'\n",
    "\n",
    "    r = requests.post(url, headers={\n",
    "    \"Authorization\": f\"Bearer {token}\",\n",
    "    \"Notion-Version\": \"2021-08-16\"\n",
    "  })\n",
    "\n",
    "    result_dict = r.json()\n",
    "    movie_list_result = result_dict['results']\n",
    "\n",
    "    movies = []\n",
    "\n",
    "    for movie in movie_list_result:\n",
    "\n",
    "        movie_dict = mapNotionResultToMovie(movie)\n",
    "        movies.append(movie_dict)\n",
    "\n",
    "    return movies"
   ]
  },
  {
   "cell_type": "code",
   "execution_count": 8,
   "id": "4040e969-161e-410d-9800-0f3b81bdaef3",
   "metadata": {},
   "outputs": [],
   "source": [
    "habits = getMovies()\n",
    "habits = [habit for habit in habits if habit['Date']!=None]\n",
    "df = pd.DataFrame(habits)"
   ]
  },
  {
   "cell_type": "code",
   "execution_count": 9,
   "id": "59e5ff20-38ab-4c91-b2aa-228dcdcbb1c3",
   "metadata": {},
   "outputs": [],
   "source": [
    "import seaborn as sns"
   ]
  },
  {
   "cell_type": "code",
   "execution_count": 10,
   "id": "1641626b-b2fd-44ad-a1b1-2266a44761f8",
   "metadata": {},
   "outputs": [],
   "source": [
    "for col in ['Sleep', 'Journaling', 'Coden', 'dehnen','Training','SAVERS']:\n",
    "    df[col] = df[col].astype('int')"
   ]
  },
  {
   "cell_type": "code",
   "execution_count": 11,
   "id": "e28708e5-9d4c-4f32-b9c9-440c6be4c1c5",
   "metadata": {},
   "outputs": [
    {
     "data": {
      "text/plain": [
       "<AxesSubplot:xlabel='Date'>"
      ]
     },
     "execution_count": 11,
     "metadata": {},
     "output_type": "execute_result"
    },
    {
     "data": {
      "image/png": "[encoded data removed]",
      "text/plain": [
       "<Figure size 432x288 with 1 Axes>"
      ]
     },
     "metadata": {
      "needs_background": "light"
     },
     "output_type": "display_data"
    }
   ],
   "source": [
    "df.set_index('Date').plot(kind='bar', stacked=True)"
   ]
  },
  {
   "cell_type": "code",
   "execution_count": 15,
   "id": "2ed6f944-ce40-4992-86bb-ef5bfd4137a0",
   "metadata": {},
   "outputs": [
    {
     "data": {
      "text/html": [
       "<div>\n",
       "<style scoped>\n",
       "    .dataframe tbody tr th:only-of-type {\n",
       "        vertical-align: middle;\n",
       "    }\n",
       "\n",
       "    .dataframe tbody tr th {\n",
       "        vertical-align: top;\n",
       "    }\n",
       "\n",
       "    .dataframe thead th {\n",
       "        text-align: right;\n",
       "    }\n",
       "</style>\n",
       "<table border=\"1\" class=\"dataframe\">\n",
       "  <thead>\n",
       "    <tr style=\"text-align: right;\">\n",
       "      <th></th>\n",
       "      <th>Date</th>\n",
       "      <th>Sleep</th>\n",
       "      <th>Journaling</th>\n",
       "      <th>Coden</th>\n",
       "      <th>dehnen</th>\n",
       "      <th>Training</th>\n",
       "      <th>SAVERS</th>\n",
       "    </tr>\n",
       "  </thead>\n",
       "  <tbody>\n",
       "    <tr>\n",
       "      <th>0</th>\n",
       "      <td>2022-05-09</td>\n",
       "      <td>1</td>\n",
       "      <td>1</td>\n",
       "      <td>1</td>\n",
       "      <td>0</td>\n",
       "      <td>1</td>\n",
       "      <td>0</td>\n",
       "    </tr>\n",
       "    <tr>\n",
       "      <th>1</th>\n",
       "      <td>2021-01-04</td>\n",
       "      <td>0</td>\n",
       "      <td>1</td>\n",
       "      <td>1</td>\n",
       "      <td>1</td>\n",
       "      <td>1</td>\n",
       "      <td>0</td>\n",
       "    </tr>\n",
       "    <tr>\n",
       "      <th>2</th>\n",
       "      <td>2021-01-03</td>\n",
       "      <td>0</td>\n",
       "      <td>1</td>\n",
       "      <td>1</td>\n",
       "      <td>1</td>\n",
       "      <td>1</td>\n",
       "      <td>0</td>\n",
       "    </tr>\n",
       "    <tr>\n",
       "      <th>3</th>\n",
       "      <td>2022-05-08</td>\n",
       "      <td>1</td>\n",
       "      <td>0</td>\n",
       "      <td>1</td>\n",
       "      <td>0</td>\n",
       "      <td>1</td>\n",
       "      <td>0</td>\n",
       "    </tr>\n",
       "    <tr>\n",
       "      <th>4</th>\n",
       "      <td>2022-05-11</td>\n",
       "      <td>1</td>\n",
       "      <td>1</td>\n",
       "      <td>1</td>\n",
       "      <td>1</td>\n",
       "      <td>1</td>\n",
       "      <td>0</td>\n",
       "    </tr>\n",
       "  </tbody>\n",
       "</table>\n",
       "</div>"
      ],
      "text/plain": [
       "         Date  Sleep  Journaling  Coden  dehnen  Training  SAVERS\n",
       "0  2022-05-09      1           1      1       0         1       0\n",
       "1  2021-01-04      0           1      1       1         1       0\n",
       "2  2021-01-03      0           1      1       1         1       0\n",
       "3  2022-05-08      1           0      1       0         1       0\n",
       "4  2022-05-11      1           1      1       1         1       0"
      ]
     },
     "execution_count": 15,
     "metadata": {},
     "output_type": "execute_result"
    }
   ],
   "source": [
    "df.head()"
   ]
  },
  {
   "cell_type": "code",
   "execution_count": 24,
   "id": "7d1444c0-185a-458f-8d37-5f328a056de9",
   "metadata": {},
   "outputs": [],
   "source": [
    "for index, row in df.iterrows():\n",
    "    df.loc[index,'count'] = int(row['Sleep'])+int(row['Journaling'])+ int(row['Coden'])+ int(row['dehnen'])+int(row['Training'])+int(row['SAVERS'])\n"
   ]
  },
  {
   "cell_type": "code",
   "execution_count": 30,
   "id": "2579dfcb-6559-4d24-93e9-bd02f68b5c65",
   "metadata": {},
   "outputs": [
    {
     "data": {
      "text/plain": [
       "0    2022-05-09\n",
       "1    2021-01-04\n",
       "2    2021-01-03\n",
       "3    2022-05-08\n",
       "4    2022-05-11\n",
       "5    2022-05-10\n",
       "Name: Date, dtype: object"
      ]
     },
     "execution_count": 30,
     "metadata": {},
     "output_type": "execute_result"
    }
   ],
   "source": [
    "df.Date"
   ]
  },
  {
   "cell_type": "code",
   "execution_count": 34,
   "id": "614592d3-5431-4426-9d69-981ca1032d59",
   "metadata": {},
   "outputs": [
    {
     "data": {
      "text/plain": [
       "<BarContainer object of 6 artists>"
      ]
     },
     "execution_count": 34,
     "metadata": {},
     "output_type": "execute_result"
    },
    {
     "data": {
      "image/png": "[encoded data removed]",
      "text/plain": [
       "<Figure size 432x288 with 1 Axes>"
      ]
     },
     "metadata": {
      "needs_background": "light"
     },
     "output_type": "display_data"
    }
   ],
   "source": [
    "import matplotlib.pyplot as plt\n",
    "plt.bar(df.Date.values, df['count'].values,width=0.5)"
   ]
  },
  {
   "cell_type": "code",
   "execution_count": null,
   "id": "685f6389-255e-4ca5-9337-4f964e947b6a",
   "metadata": {},
   "outputs": [],
   "source": []
  }
 ],
 "metadata": {
  "kernelspec": {
   "display_name": "Python 3 (ipykernel)",
   "language": "python",
   "name": "python3"
  },
  "language_info": {
   "codemirror_mode": {
    "name": "ipython",
    "version": 3
   },
   "file_extension": ".py",
   "mimetype": "text/x-python",
   "name": "python",
   "nbconvert_exporter": "python",
   "pygments_lexer": "ipython3",
   "version": "3.10.4"
  }
 },
 "nbformat": 4,
 "nbformat_minor": 5
}
