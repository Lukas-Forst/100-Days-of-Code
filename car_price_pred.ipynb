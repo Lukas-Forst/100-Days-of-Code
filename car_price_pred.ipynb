{
 "cells": [
  {
   "cell_type": "code",
   "execution_count": 1,
   "id": "135fb1b2",
   "metadata": {
    "_cell_guid": "b1076dfc-b9ad-4769-8c92-a6c4dae69d19",
    "_uuid": "8f2839f25d086af736a60e9eeb907d3b93b6e0e5",
    "execution": {
     "iopub.execute_input": "2022-07-07T21:02:25.059788Z",
     "iopub.status.busy": "2022-07-07T21:02:25.059042Z",
     "iopub.status.idle": "2022-07-07T21:02:27.569935Z",
     "shell.execute_reply": "2022-07-07T21:02:27.568522Z"
    },
    "papermill": {
     "duration": 2.527286,
     "end_time": "2022-07-07T21:02:27.574432",
     "exception": false,
     "start_time": "2022-07-07T21:02:25.047146",
     "status": "completed"
    },
    "tags": []
   },
   "outputs": [
    {
     "name": "stdout",
     "output_type": "stream",
     "text": [
      "/kaggle/input/car-price-prediction-challenge/car_price_prediction.csv\n"
     ]
    }
   ],
   "source": [
    "# This Python 3 environment comes with many helpful analytics libraries installed\n",
    "# It is defined by the kaggle/python Docker image: https://github.com/kaggle/docker-python\n",
    "# For example, here's several helpful packages to load\n",
    "\n",
    "import numpy as np # linear algebra\n",
    "import pandas as pd # data processing, CSV file I/O (e.g. pd.read_csv)\n",
    "import matplotlib.pyplot as plt\n",
    "import seaborn as sns\n",
    "import plotly.express as px\n",
    "# Input data files are available in the read-only \"../input/\" directory\n",
    "# For example, running this (by clicking run or pressing Shift+Enter) will list all files under the input directory\n",
    "\n",
    "import os\n",
    "for dirname, _, filenames in os.walk('/kaggle/input'):\n",
    "    for filename in filenames:\n",
    "        print(os.path.join(dirname, filename))\n",
    "\n",
    "# You can write up to 20GB to the current directory (/kaggle/working/) that gets preserved as output when you create a version using \"Save & Run All\" \n",
    "# You can also write temporary files to /kaggle/temp/, but they won't be saved outside of the current session"
   ]
  },
  {
   "cell_type": "code",
   "execution_count": 2,
   "id": "873b34d9",
   "metadata": {
    "execution": {
     "iopub.execute_input": "2022-07-07T21:02:27.598253Z",
     "iopub.status.busy": "2022-07-07T21:02:27.597585Z",
     "iopub.status.idle": "2022-07-07T21:02:27.717900Z",
     "shell.execute_reply": "2022-07-07T21:02:27.716549Z"
    },
    "papermill": {
     "duration": 0.134859,
     "end_time": "2022-07-07T21:02:27.721544",
     "exception": false,
     "start_time": "2022-07-07T21:02:27.586685",
     "status": "completed"
    },
    "tags": []
   },
   "outputs": [],
   "source": [
    "#loading data as datafram file\n",
    "df = pd.read_csv('/kaggle/input/car-price-prediction-challenge/car_price_prediction.csv')"
   ]
  },
  {
   "cell_type": "code",
   "execution_count": 3,
   "id": "e2672470",
   "metadata": {
    "execution": {
     "iopub.execute_input": "2022-07-07T21:02:27.745171Z",
     "iopub.status.busy": "2022-07-07T21:02:27.743951Z",
     "iopub.status.idle": "2022-07-07T21:02:27.775488Z",
     "shell.execute_reply": "2022-07-07T21:02:27.773878Z"
    },
    "papermill": {
     "duration": 0.045291,
     "end_time": "2022-07-07T21:02:27.778123",
     "exception": false,
     "start_time": "2022-07-07T21:02:27.732832",
     "status": "completed"
    },
    "tags": []
   },
   "outputs": [
    {
     "data": {
      "text/html": [
       "<div>\n",
       "<style scoped>\n",
       "    .dataframe tbody tr th:only-of-type {\n",
       "        vertical-align: middle;\n",
       "    }\n",
       "\n",
       "    .dataframe tbody tr th {\n",
       "        vertical-align: top;\n",
       "    }\n",
       "\n",
       "    .dataframe thead th {\n",
       "        text-align: right;\n",
       "    }\n",
       "</style>\n",
       "<table border=\"1\" class=\"dataframe\">\n",
       "  <thead>\n",
       "    <tr style=\"text-align: right;\">\n",
       "      <th></th>\n",
       "      <th>ID</th>\n",
       "      <th>Price</th>\n",
       "      <th>Levy</th>\n",
       "      <th>Manufacturer</th>\n",
       "      <th>Model</th>\n",
       "      <th>Prod. year</th>\n",
       "      <th>Category</th>\n",
       "      <th>Leather interior</th>\n",
       "      <th>Fuel type</th>\n",
       "      <th>Engine volume</th>\n",
       "      <th>Mileage</th>\n",
       "      <th>Cylinders</th>\n",
       "      <th>Gear box type</th>\n",
       "      <th>Drive wheels</th>\n",
       "      <th>Doors</th>\n",
       "      <th>Wheel</th>\n",
       "      <th>Color</th>\n",
       "      <th>Airbags</th>\n",
       "    </tr>\n",
       "  </thead>\n",
       "  <tbody>\n",
       "    <tr>\n",
       "      <th>0</th>\n",
       "      <td>45654403</td>\n",
       "      <td>13328</td>\n",
       "      <td>1399</td>\n",
       "      <td>LEXUS</td>\n",
       "      <td>RX 450</td>\n",
       "      <td>2010</td>\n",
       "      <td>Jeep</td>\n",
       "      <td>Yes</td>\n",
       "      <td>Hybrid</td>\n",
       "      <td>3.5</td>\n",
       "      <td>186005 km</td>\n",
       "      <td>6.0</td>\n",
       "      <td>Automatic</td>\n",
       "      <td>4x4</td>\n",
       "      <td>04-May</td>\n",
       "      <td>Left wheel</td>\n",
       "      <td>Silver</td>\n",
       "      <td>12</td>\n",
       "    </tr>\n",
       "    <tr>\n",
       "      <th>1</th>\n",
       "      <td>44731507</td>\n",
       "      <td>16621</td>\n",
       "      <td>1018</td>\n",
       "      <td>CHEVROLET</td>\n",
       "      <td>Equinox</td>\n",
       "      <td>2011</td>\n",
       "      <td>Jeep</td>\n",
       "      <td>No</td>\n",
       "      <td>Petrol</td>\n",
       "      <td>3</td>\n",
       "      <td>192000 km</td>\n",
       "      <td>6.0</td>\n",
       "      <td>Tiptronic</td>\n",
       "      <td>4x4</td>\n",
       "      <td>04-May</td>\n",
       "      <td>Left wheel</td>\n",
       "      <td>Black</td>\n",
       "      <td>8</td>\n",
       "    </tr>\n",
       "    <tr>\n",
       "      <th>2</th>\n",
       "      <td>45774419</td>\n",
       "      <td>8467</td>\n",
       "      <td>-</td>\n",
       "      <td>HONDA</td>\n",
       "      <td>FIT</td>\n",
       "      <td>2006</td>\n",
       "      <td>Hatchback</td>\n",
       "      <td>No</td>\n",
       "      <td>Petrol</td>\n",
       "      <td>1.3</td>\n",
       "      <td>200000 km</td>\n",
       "      <td>4.0</td>\n",
       "      <td>Variator</td>\n",
       "      <td>Front</td>\n",
       "      <td>04-May</td>\n",
       "      <td>Right-hand drive</td>\n",
       "      <td>Black</td>\n",
       "      <td>2</td>\n",
       "    </tr>\n",
       "    <tr>\n",
       "      <th>3</th>\n",
       "      <td>45769185</td>\n",
       "      <td>3607</td>\n",
       "      <td>862</td>\n",
       "      <td>FORD</td>\n",
       "      <td>Escape</td>\n",
       "      <td>2011</td>\n",
       "      <td>Jeep</td>\n",
       "      <td>Yes</td>\n",
       "      <td>Hybrid</td>\n",
       "      <td>2.5</td>\n",
       "      <td>168966 km</td>\n",
       "      <td>4.0</td>\n",
       "      <td>Automatic</td>\n",
       "      <td>4x4</td>\n",
       "      <td>04-May</td>\n",
       "      <td>Left wheel</td>\n",
       "      <td>White</td>\n",
       "      <td>0</td>\n",
       "    </tr>\n",
       "    <tr>\n",
       "      <th>4</th>\n",
       "      <td>45809263</td>\n",
       "      <td>11726</td>\n",
       "      <td>446</td>\n",
       "      <td>HONDA</td>\n",
       "      <td>FIT</td>\n",
       "      <td>2014</td>\n",
       "      <td>Hatchback</td>\n",
       "      <td>Yes</td>\n",
       "      <td>Petrol</td>\n",
       "      <td>1.3</td>\n",
       "      <td>91901 km</td>\n",
       "      <td>4.0</td>\n",
       "      <td>Automatic</td>\n",
       "      <td>Front</td>\n",
       "      <td>04-May</td>\n",
       "      <td>Left wheel</td>\n",
       "      <td>Silver</td>\n",
       "      <td>4</td>\n",
       "    </tr>\n",
       "  </tbody>\n",
       "</table>\n",
       "</div>"
      ],
      "text/plain": [
       "         ID  Price  Levy Manufacturer    Model  Prod. year   Category  \\\n",
       "0  45654403  13328  1399        LEXUS   RX 450        2010       Jeep   \n",
       "1  44731507  16621  1018    CHEVROLET  Equinox        2011       Jeep   \n",
       "2  45774419   8467     -        HONDA      FIT        2006  Hatchback   \n",
       "3  45769185   3607   862         FORD   Escape        2011       Jeep   \n",
       "4  45809263  11726   446        HONDA      FIT        2014  Hatchback   \n",
       "\n",
       "  Leather interior Fuel type Engine volume    Mileage  Cylinders  \\\n",
       "0              Yes    Hybrid           3.5  186005 km        6.0   \n",
       "1               No    Petrol             3  192000 km        6.0   \n",
       "2               No    Petrol           1.3  200000 km        4.0   \n",
       "3              Yes    Hybrid           2.5  168966 km        4.0   \n",
       "4              Yes    Petrol           1.3   91901 km        4.0   \n",
       "\n",
       "  Gear box type Drive wheels   Doors             Wheel   Color  Airbags  \n",
       "0     Automatic          4x4  04-May        Left wheel  Silver       12  \n",
       "1     Tiptronic          4x4  04-May        Left wheel   Black        8  \n",
       "2      Variator        Front  04-May  Right-hand drive   Black        2  \n",
       "3     Automatic          4x4  04-May        Left wheel   White        0  \n",
       "4     Automatic        Front  04-May        Left wheel  Silver        4  "
      ]
     },
     "execution_count": 3,
     "metadata": {},
     "output_type": "execute_result"
    }
   ],
   "source": [
    "df.head()"
   ]
  },
  {
   "cell_type": "code",
   "execution_count": 4,
   "id": "98795d40",
   "metadata": {
    "execution": {
     "iopub.execute_input": "2022-07-07T21:02:27.800482Z",
     "iopub.status.busy": "2022-07-07T21:02:27.799659Z",
     "iopub.status.idle": "2022-07-07T21:02:27.843856Z",
     "shell.execute_reply": "2022-07-07T21:02:27.842646Z"
    },
    "papermill": {
     "duration": 0.058462,
     "end_time": "2022-07-07T21:02:27.846559",
     "exception": false,
     "start_time": "2022-07-07T21:02:27.788097",
     "status": "completed"
    },
    "tags": []
   },
   "outputs": [
    {
     "data": {
      "text/html": [
       "<div>\n",
       "<style scoped>\n",
       "    .dataframe tbody tr th:only-of-type {\n",
       "        vertical-align: middle;\n",
       "    }\n",
       "\n",
       "    .dataframe tbody tr th {\n",
       "        vertical-align: top;\n",
       "    }\n",
       "\n",
       "    .dataframe thead th {\n",
       "        text-align: right;\n",
       "    }\n",
       "</style>\n",
       "<table border=\"1\" class=\"dataframe\">\n",
       "  <thead>\n",
       "    <tr style=\"text-align: right;\">\n",
       "      <th></th>\n",
       "      <th>ID</th>\n",
       "      <th>Price</th>\n",
       "      <th>Prod. year</th>\n",
       "      <th>Cylinders</th>\n",
       "      <th>Airbags</th>\n",
       "    </tr>\n",
       "  </thead>\n",
       "  <tbody>\n",
       "    <tr>\n",
       "      <th>count</th>\n",
       "      <td>1.923700e+04</td>\n",
       "      <td>1.923700e+04</td>\n",
       "      <td>19237.000000</td>\n",
       "      <td>19237.000000</td>\n",
       "      <td>19237.000000</td>\n",
       "    </tr>\n",
       "    <tr>\n",
       "      <th>mean</th>\n",
       "      <td>4.557654e+07</td>\n",
       "      <td>1.855593e+04</td>\n",
       "      <td>2010.912824</td>\n",
       "      <td>4.582991</td>\n",
       "      <td>6.582627</td>\n",
       "    </tr>\n",
       "    <tr>\n",
       "      <th>std</th>\n",
       "      <td>9.365914e+05</td>\n",
       "      <td>1.905813e+05</td>\n",
       "      <td>5.668673</td>\n",
       "      <td>1.199933</td>\n",
       "      <td>4.320168</td>\n",
       "    </tr>\n",
       "    <tr>\n",
       "      <th>min</th>\n",
       "      <td>2.074688e+07</td>\n",
       "      <td>1.000000e+00</td>\n",
       "      <td>1939.000000</td>\n",
       "      <td>1.000000</td>\n",
       "      <td>0.000000</td>\n",
       "    </tr>\n",
       "    <tr>\n",
       "      <th>25%</th>\n",
       "      <td>4.569837e+07</td>\n",
       "      <td>5.331000e+03</td>\n",
       "      <td>2009.000000</td>\n",
       "      <td>4.000000</td>\n",
       "      <td>4.000000</td>\n",
       "    </tr>\n",
       "    <tr>\n",
       "      <th>50%</th>\n",
       "      <td>4.577231e+07</td>\n",
       "      <td>1.317200e+04</td>\n",
       "      <td>2012.000000</td>\n",
       "      <td>4.000000</td>\n",
       "      <td>6.000000</td>\n",
       "    </tr>\n",
       "    <tr>\n",
       "      <th>75%</th>\n",
       "      <td>4.580204e+07</td>\n",
       "      <td>2.207500e+04</td>\n",
       "      <td>2015.000000</td>\n",
       "      <td>4.000000</td>\n",
       "      <td>12.000000</td>\n",
       "    </tr>\n",
       "    <tr>\n",
       "      <th>max</th>\n",
       "      <td>4.581665e+07</td>\n",
       "      <td>2.630750e+07</td>\n",
       "      <td>2020.000000</td>\n",
       "      <td>16.000000</td>\n",
       "      <td>16.000000</td>\n",
       "    </tr>\n",
       "  </tbody>\n",
       "</table>\n",
       "</div>"
      ],
      "text/plain": [
       "                 ID         Price    Prod. year     Cylinders       Airbags\n",
       "count  1.923700e+04  1.923700e+04  19237.000000  19237.000000  19237.000000\n",
       "mean   4.557654e+07  1.855593e+04   2010.912824      4.582991      6.582627\n",
       "std    9.365914e+05  1.905813e+05      5.668673      1.199933      4.320168\n",
       "min    2.074688e+07  1.000000e+00   1939.000000      1.000000      0.000000\n",
       "25%    4.569837e+07  5.331000e+03   2009.000000      4.000000      4.000000\n",
       "50%    4.577231e+07  1.317200e+04   2012.000000      4.000000      6.000000\n",
       "75%    4.580204e+07  2.207500e+04   2015.000000      4.000000     12.000000\n",
       "max    4.581665e+07  2.630750e+07   2020.000000     16.000000     16.000000"
      ]
     },
     "execution_count": 4,
     "metadata": {},
     "output_type": "execute_result"
    }
   ],
   "source": [
    "df.describe()"
   ]
  },
  {
   "cell_type": "code",
   "execution_count": 5,
   "id": "7387ac22",
   "metadata": {
    "execution": {
     "iopub.execute_input": "2022-07-07T21:02:27.869005Z",
     "iopub.status.busy": "2022-07-07T21:02:27.868589Z",
     "iopub.status.idle": "2022-07-07T21:02:27.879374Z",
     "shell.execute_reply": "2022-07-07T21:02:27.877675Z"
    },
    "papermill": {
     "duration": 0.026794,
     "end_time": "2022-07-07T21:02:27.883911",
     "exception": false,
     "start_time": "2022-07-07T21:02:27.857117",
     "status": "completed"
    },
    "tags": []
   },
   "outputs": [
    {
     "name": "stdout",
     "output_type": "stream",
     "text": [
      "(18555.92722357956, 190581.26968400914, 13172.0, 26307500, 1)\n"
     ]
    }
   ],
   "source": [
    "def basic_stats(col):\n",
    "    return df[col].mean(), df[col].std(), df[col].median(), df[col].max(), df[col].min()\n",
    "\n",
    "print(basic_stats('Price'))"
   ]
  },
  {
   "cell_type": "code",
   "execution_count": 6,
   "id": "6fbc3014",
   "metadata": {
    "execution": {
     "iopub.execute_input": "2022-07-07T21:02:27.909462Z",
     "iopub.status.busy": "2022-07-07T21:02:27.908207Z",
     "iopub.status.idle": "2022-07-07T21:02:27.938775Z",
     "shell.execute_reply": "2022-07-07T21:02:27.937908Z"
    },
    "papermill": {
     "duration": 0.045815,
     "end_time": "2022-07-07T21:02:27.941220",
     "exception": false,
     "start_time": "2022-07-07T21:02:27.895405",
     "status": "completed"
    },
    "tags": []
   },
   "outputs": [
    {
     "data": {
      "text/html": [
       "<div>\n",
       "<style scoped>\n",
       "    .dataframe tbody tr th:only-of-type {\n",
       "        vertical-align: middle;\n",
       "    }\n",
       "\n",
       "    .dataframe tbody tr th {\n",
       "        vertical-align: top;\n",
       "    }\n",
       "\n",
       "    .dataframe thead th {\n",
       "        text-align: right;\n",
       "    }\n",
       "</style>\n",
       "<table border=\"1\" class=\"dataframe\">\n",
       "  <thead>\n",
       "    <tr style=\"text-align: right;\">\n",
       "      <th></th>\n",
       "      <th>ID</th>\n",
       "      <th>Price</th>\n",
       "      <th>Levy</th>\n",
       "      <th>Manufacturer</th>\n",
       "      <th>Model</th>\n",
       "      <th>Prod. year</th>\n",
       "      <th>Category</th>\n",
       "      <th>Leather interior</th>\n",
       "      <th>Fuel type</th>\n",
       "      <th>Engine volume</th>\n",
       "      <th>Mileage</th>\n",
       "      <th>Cylinders</th>\n",
       "      <th>Gear box type</th>\n",
       "      <th>Drive wheels</th>\n",
       "      <th>Doors</th>\n",
       "      <th>Wheel</th>\n",
       "      <th>Color</th>\n",
       "      <th>Airbags</th>\n",
       "    </tr>\n",
       "  </thead>\n",
       "  <tbody>\n",
       "    <tr>\n",
       "      <th>1225</th>\n",
       "      <td>45795524</td>\n",
       "      <td>627220</td>\n",
       "      <td>-</td>\n",
       "      <td>MERCEDES-BENZ</td>\n",
       "      <td>G 65 AMG 63AMG</td>\n",
       "      <td>2020</td>\n",
       "      <td>Jeep</td>\n",
       "      <td>Yes</td>\n",
       "      <td>Petrol</td>\n",
       "      <td>6.3 Turbo</td>\n",
       "      <td>0 km</td>\n",
       "      <td>8.0</td>\n",
       "      <td>Tiptronic</td>\n",
       "      <td>4x4</td>\n",
       "      <td>04-May</td>\n",
       "      <td>Left wheel</td>\n",
       "      <td>Black</td>\n",
       "      <td>12</td>\n",
       "    </tr>\n",
       "    <tr>\n",
       "      <th>2283</th>\n",
       "      <td>45786808</td>\n",
       "      <td>219527</td>\n",
       "      <td>-</td>\n",
       "      <td>BENTLEY</td>\n",
       "      <td>Continental GT</td>\n",
       "      <td>2012</td>\n",
       "      <td>Coupe</td>\n",
       "      <td>Yes</td>\n",
       "      <td>Petrol</td>\n",
       "      <td>4.0 Turbo</td>\n",
       "      <td>55500 km</td>\n",
       "      <td>8.0</td>\n",
       "      <td>Tiptronic</td>\n",
       "      <td>4x4</td>\n",
       "      <td>02-Mar</td>\n",
       "      <td>Left wheel</td>\n",
       "      <td>Black</td>\n",
       "      <td>0</td>\n",
       "    </tr>\n",
       "    <tr>\n",
       "      <th>5008</th>\n",
       "      <td>45810285</td>\n",
       "      <td>308906</td>\n",
       "      <td>1694</td>\n",
       "      <td>PORSCHE</td>\n",
       "      <td>911</td>\n",
       "      <td>2016</td>\n",
       "      <td>Coupe</td>\n",
       "      <td>Yes</td>\n",
       "      <td>Petrol</td>\n",
       "      <td>4</td>\n",
       "      <td>8690 km</td>\n",
       "      <td>6.0</td>\n",
       "      <td>Automatic</td>\n",
       "      <td>Rear</td>\n",
       "      <td>02-Mar</td>\n",
       "      <td>Left wheel</td>\n",
       "      <td>Black</td>\n",
       "      <td>12</td>\n",
       "    </tr>\n",
       "    <tr>\n",
       "      <th>5840</th>\n",
       "      <td>44991441</td>\n",
       "      <td>254024</td>\n",
       "      <td>1292</td>\n",
       "      <td>MERCEDES-BENZ</td>\n",
       "      <td>GLE 400 A M G</td>\n",
       "      <td>2016</td>\n",
       "      <td>Jeep</td>\n",
       "      <td>Yes</td>\n",
       "      <td>Petrol</td>\n",
       "      <td>3.0 Turbo</td>\n",
       "      <td>73000 km</td>\n",
       "      <td>6.0</td>\n",
       "      <td>Tiptronic</td>\n",
       "      <td>4x4</td>\n",
       "      <td>04-May</td>\n",
       "      <td>Left wheel</td>\n",
       "      <td>Black</td>\n",
       "      <td>12</td>\n",
       "    </tr>\n",
       "    <tr>\n",
       "      <th>7283</th>\n",
       "      <td>45420737</td>\n",
       "      <td>228935</td>\n",
       "      <td>-</td>\n",
       "      <td>MERCEDES-BENZ</td>\n",
       "      <td>GLE 63 AMG</td>\n",
       "      <td>2018</td>\n",
       "      <td>Jeep</td>\n",
       "      <td>Yes</td>\n",
       "      <td>Petrol</td>\n",
       "      <td>5.5 Turbo</td>\n",
       "      <td>23000 km</td>\n",
       "      <td>8.0</td>\n",
       "      <td>Tiptronic</td>\n",
       "      <td>4x4</td>\n",
       "      <td>04-May</td>\n",
       "      <td>Left wheel</td>\n",
       "      <td>Black</td>\n",
       "      <td>16</td>\n",
       "    </tr>\n",
       "    <tr>\n",
       "      <th>7353</th>\n",
       "      <td>43683199</td>\n",
       "      <td>216391</td>\n",
       "      <td>-</td>\n",
       "      <td>MERCEDES-BENZ</td>\n",
       "      <td>G 65 AMG G63 AMG</td>\n",
       "      <td>2013</td>\n",
       "      <td>Jeep</td>\n",
       "      <td>Yes</td>\n",
       "      <td>Petrol</td>\n",
       "      <td>5.5 Turbo</td>\n",
       "      <td>54000 km</td>\n",
       "      <td>8.0</td>\n",
       "      <td>Tiptronic</td>\n",
       "      <td>4x4</td>\n",
       "      <td>04-May</td>\n",
       "      <td>Left wheel</td>\n",
       "      <td>Black</td>\n",
       "      <td>12</td>\n",
       "    </tr>\n",
       "    <tr>\n",
       "      <th>7749</th>\n",
       "      <td>45760644</td>\n",
       "      <td>288521</td>\n",
       "      <td>2269</td>\n",
       "      <td>BMW</td>\n",
       "      <td>M5 Машина в максимально</td>\n",
       "      <td>2018</td>\n",
       "      <td>Sedan</td>\n",
       "      <td>Yes</td>\n",
       "      <td>Petrol</td>\n",
       "      <td>4.4</td>\n",
       "      <td>13500 km</td>\n",
       "      <td>8.0</td>\n",
       "      <td>Tiptronic</td>\n",
       "      <td>4x4</td>\n",
       "      <td>04-May</td>\n",
       "      <td>Left wheel</td>\n",
       "      <td>Black</td>\n",
       "      <td>0</td>\n",
       "    </tr>\n",
       "    <tr>\n",
       "      <th>8541</th>\n",
       "      <td>45761204</td>\n",
       "      <td>872946</td>\n",
       "      <td>2067</td>\n",
       "      <td>LAMBORGHINI</td>\n",
       "      <td>Urus</td>\n",
       "      <td>2019</td>\n",
       "      <td>Universal</td>\n",
       "      <td>Yes</td>\n",
       "      <td>Petrol</td>\n",
       "      <td>4</td>\n",
       "      <td>2531 km</td>\n",
       "      <td>8.0</td>\n",
       "      <td>Tiptronic</td>\n",
       "      <td>4x4</td>\n",
       "      <td>04-May</td>\n",
       "      <td>Left wheel</td>\n",
       "      <td>Black</td>\n",
       "      <td>0</td>\n",
       "    </tr>\n",
       "    <tr>\n",
       "      <th>9367</th>\n",
       "      <td>45229113</td>\n",
       "      <td>297930</td>\n",
       "      <td>-</td>\n",
       "      <td>MERCEDES-BENZ</td>\n",
       "      <td>AMG GT S</td>\n",
       "      <td>2015</td>\n",
       "      <td>Coupe</td>\n",
       "      <td>Yes</td>\n",
       "      <td>Petrol</td>\n",
       "      <td>4.0 Turbo</td>\n",
       "      <td>20000 km</td>\n",
       "      <td>8.0</td>\n",
       "      <td>Tiptronic</td>\n",
       "      <td>Rear</td>\n",
       "      <td>02-Mar</td>\n",
       "      <td>Left wheel</td>\n",
       "      <td>White</td>\n",
       "      <td>16</td>\n",
       "    </tr>\n",
       "    <tr>\n",
       "      <th>10759</th>\n",
       "      <td>45291161</td>\n",
       "      <td>260296</td>\n",
       "      <td>-</td>\n",
       "      <td>LEXUS</td>\n",
       "      <td>LX 570</td>\n",
       "      <td>2018</td>\n",
       "      <td>Jeep</td>\n",
       "      <td>Yes</td>\n",
       "      <td>Petrol</td>\n",
       "      <td>5.7 Turbo</td>\n",
       "      <td>17700 km</td>\n",
       "      <td>8.0</td>\n",
       "      <td>Tiptronic</td>\n",
       "      <td>4x4</td>\n",
       "      <td>04-May</td>\n",
       "      <td>Left wheel</td>\n",
       "      <td>Black</td>\n",
       "      <td>10</td>\n",
       "    </tr>\n",
       "    <tr>\n",
       "      <th>14839</th>\n",
       "      <td>45792307</td>\n",
       "      <td>297930</td>\n",
       "      <td>-</td>\n",
       "      <td>LAND ROVER</td>\n",
       "      <td>Range Rover Vogue</td>\n",
       "      <td>2019</td>\n",
       "      <td>Jeep</td>\n",
       "      <td>Yes</td>\n",
       "      <td>Diesel</td>\n",
       "      <td>3.0 Turbo</td>\n",
       "      <td>4500 km</td>\n",
       "      <td>8.0</td>\n",
       "      <td>Tiptronic</td>\n",
       "      <td>4x4</td>\n",
       "      <td>04-May</td>\n",
       "      <td>Left wheel</td>\n",
       "      <td>Black</td>\n",
       "      <td>12</td>\n",
       "    </tr>\n",
       "    <tr>\n",
       "      <th>15283</th>\n",
       "      <td>45069516</td>\n",
       "      <td>250574</td>\n",
       "      <td>1481</td>\n",
       "      <td>MERCEDES-BENZ</td>\n",
       "      <td>GLE 400</td>\n",
       "      <td>2017</td>\n",
       "      <td>Jeep</td>\n",
       "      <td>Yes</td>\n",
       "      <td>Petrol</td>\n",
       "      <td>3.0 Turbo</td>\n",
       "      <td>81600 km</td>\n",
       "      <td>6.0</td>\n",
       "      <td>Tiptronic</td>\n",
       "      <td>4x4</td>\n",
       "      <td>04-May</td>\n",
       "      <td>Left wheel</td>\n",
       "      <td>Black</td>\n",
       "      <td>12</td>\n",
       "    </tr>\n",
       "    <tr>\n",
       "      <th>16983</th>\n",
       "      <td>45812886</td>\n",
       "      <td>26307500</td>\n",
       "      <td>-</td>\n",
       "      <td>OPEL</td>\n",
       "      <td>Combo</td>\n",
       "      <td>1999</td>\n",
       "      <td>Goods wagon</td>\n",
       "      <td>No</td>\n",
       "      <td>Diesel</td>\n",
       "      <td>1.7</td>\n",
       "      <td>99999 km</td>\n",
       "      <td>4.0</td>\n",
       "      <td>Manual</td>\n",
       "      <td>Front</td>\n",
       "      <td>02-Mar</td>\n",
       "      <td>Left wheel</td>\n",
       "      <td>Blue</td>\n",
       "      <td>0</td>\n",
       "    </tr>\n",
       "  </tbody>\n",
       "</table>\n",
       "</div>"
      ],
      "text/plain": [
       "             ID     Price  Levy   Manufacturer                    Model  \\\n",
       "1225   45795524    627220     -  MERCEDES-BENZ           G 65 AMG 63AMG   \n",
       "2283   45786808    219527     -        BENTLEY           Continental GT   \n",
       "5008   45810285    308906  1694        PORSCHE                      911   \n",
       "5840   44991441    254024  1292  MERCEDES-BENZ            GLE 400 A M G   \n",
       "7283   45420737    228935     -  MERCEDES-BENZ               GLE 63 AMG   \n",
       "7353   43683199    216391     -  MERCEDES-BENZ         G 65 AMG G63 AMG   \n",
       "7749   45760644    288521  2269            BMW  M5 Машина в максимально   \n",
       "8541   45761204    872946  2067    LAMBORGHINI                     Urus   \n",
       "9367   45229113    297930     -  MERCEDES-BENZ                 AMG GT S   \n",
       "10759  45291161    260296     -          LEXUS                   LX 570   \n",
       "14839  45792307    297930     -     LAND ROVER        Range Rover Vogue   \n",
       "15283  45069516    250574  1481  MERCEDES-BENZ                  GLE 400   \n",
       "16983  45812886  26307500     -           OPEL                    Combo   \n",
       "\n",
       "       Prod. year     Category Leather interior Fuel type Engine volume  \\\n",
       "1225         2020         Jeep              Yes    Petrol     6.3 Turbo   \n",
       "2283         2012        Coupe              Yes    Petrol     4.0 Turbo   \n",
       "5008         2016        Coupe              Yes    Petrol             4   \n",
       "5840         2016         Jeep              Yes    Petrol     3.0 Turbo   \n",
       "7283         2018         Jeep              Yes    Petrol     5.5 Turbo   \n",
       "7353         2013         Jeep              Yes    Petrol     5.5 Turbo   \n",
       "7749         2018        Sedan              Yes    Petrol           4.4   \n",
       "8541         2019    Universal              Yes    Petrol             4   \n",
       "9367         2015        Coupe              Yes    Petrol     4.0 Turbo   \n",
       "10759        2018         Jeep              Yes    Petrol     5.7 Turbo   \n",
       "14839        2019         Jeep              Yes    Diesel     3.0 Turbo   \n",
       "15283        2017         Jeep              Yes    Petrol     3.0 Turbo   \n",
       "16983        1999  Goods wagon               No    Diesel           1.7   \n",
       "\n",
       "        Mileage  Cylinders Gear box type Drive wheels   Doors       Wheel  \\\n",
       "1225       0 km        8.0     Tiptronic          4x4  04-May  Left wheel   \n",
       "2283   55500 km        8.0     Tiptronic          4x4  02-Mar  Left wheel   \n",
       "5008    8690 km        6.0     Automatic         Rear  02-Mar  Left wheel   \n",
       "5840   73000 km        6.0     Tiptronic          4x4  04-May  Left wheel   \n",
       "7283   23000 km        8.0     Tiptronic          4x4  04-May  Left wheel   \n",
       "7353   54000 km        8.0     Tiptronic          4x4  04-May  Left wheel   \n",
       "7749   13500 km        8.0     Tiptronic          4x4  04-May  Left wheel   \n",
       "8541    2531 km        8.0     Tiptronic          4x4  04-May  Left wheel   \n",
       "9367   20000 km        8.0     Tiptronic         Rear  02-Mar  Left wheel   \n",
       "10759  17700 km        8.0     Tiptronic          4x4  04-May  Left wheel   \n",
       "14839   4500 km        8.0     Tiptronic          4x4  04-May  Left wheel   \n",
       "15283  81600 km        6.0     Tiptronic          4x4  04-May  Left wheel   \n",
       "16983  99999 km        4.0        Manual        Front  02-Mar  Left wheel   \n",
       "\n",
       "       Color  Airbags  \n",
       "1225   Black       12  \n",
       "2283   Black        0  \n",
       "5008   Black       12  \n",
       "5840   Black       12  \n",
       "7283   Black       16  \n",
       "7353   Black       12  \n",
       "7749   Black        0  \n",
       "8541   Black        0  \n",
       "9367   White       16  \n",
       "10759  Black       10  \n",
       "14839  Black       12  \n",
       "15283  Black       12  \n",
       "16983   Blue        0  "
      ]
     },
     "execution_count": 6,
     "metadata": {},
     "output_type": "execute_result"
    }
   ],
   "source": [
    "df[df['Price']>=200000]"
   ]
  },
  {
   "cell_type": "code",
   "execution_count": 7,
   "id": "8f324d30",
   "metadata": {
    "execution": {
     "iopub.execute_input": "2022-07-07T21:02:27.966271Z",
     "iopub.status.busy": "2022-07-07T21:02:27.965588Z",
     "iopub.status.idle": "2022-07-07T21:02:27.974889Z",
     "shell.execute_reply": "2022-07-07T21:02:27.973899Z"
    },
    "papermill": {
     "duration": 0.024908,
     "end_time": "2022-07-07T21:02:27.977703",
     "exception": false,
     "start_time": "2022-07-07T21:02:27.952795",
     "status": "completed"
    },
    "tags": []
   },
   "outputs": [],
   "source": [
    "df = df[df['ID']!=45812886]"
   ]
  },
  {
   "cell_type": "code",
   "execution_count": 8,
   "id": "62bad36d",
   "metadata": {
    "execution": {
     "iopub.execute_input": "2022-07-07T21:02:28.002384Z",
     "iopub.status.busy": "2022-07-07T21:02:28.001370Z",
     "iopub.status.idle": "2022-07-07T21:02:28.019009Z",
     "shell.execute_reply": "2022-07-07T21:02:28.017455Z"
    },
    "papermill": {
     "duration": 0.033434,
     "end_time": "2022-07-07T21:02:28.022161",
     "exception": false,
     "start_time": "2022-07-07T21:02:27.988727",
     "status": "completed"
    },
    "tags": []
   },
   "outputs": [
    {
     "name": "stdout",
     "output_type": "stream",
     "text": [
      "ID (45576523.599241, 936614.2180781392, 45772307.0, 45816654, 20746880)\n",
      "Price (17189.273861509668, 19786.33778773476, 13172.0, 872946, 1)\n",
      "Prod. year (2010.9134435433562, 5.668169523745634, 2012.0, 2020, 1939)\n",
      "Airbags (6.58296943231441, 4.320019957701316, 6.0, 16, 0)\n",
      "Cylinders (4.583021418174257, 1.1999569959189724, 4.0, 16.0, 1.0)\n"
     ]
    }
   ],
   "source": [
    "int_cols = df.dtypes[df.dtypes == 'int64'].index\n",
    "flot_cols = df.dtypes[df.dtypes == 'float64'].index\n",
    "\n",
    "for col in int_cols:\n",
    "    print(col, basic_stats(col))\n",
    "    \n",
    "for col in flot_cols:\n",
    "    print(col, basic_stats(col))\n",
    "    "
   ]
  },
  {
   "cell_type": "code",
   "execution_count": 9,
   "id": "bb777ab9",
   "metadata": {
    "execution": {
     "iopub.execute_input": "2022-07-07T21:02:28.045189Z",
     "iopub.status.busy": "2022-07-07T21:02:28.044469Z",
     "iopub.status.idle": "2022-07-07T21:02:28.881018Z",
     "shell.execute_reply": "2022-07-07T21:02:28.880062Z"
    },
    "papermill": {
     "duration": 0.850849,
     "end_time": "2022-07-07T21:02:28.883523",
     "exception": false,
     "start_time": "2022-07-07T21:02:28.032674",
     "status": "completed"
    },
    "tags": []
   },
   "outputs": [
    {
     "data": {
      "text/plain": [
       "<AxesSubplot:xlabel='Manufacturer', ylabel='Price'>"
      ]
     },
     "execution_count": 9,
     "metadata": {},
     "output_type": "execute_result"
    },
    {
     "data": {
      "image/png": "[encoded data removed]",
      "text/plain": [
       "<Figure size 432x288 with 1 Axes>"
      ]
     },
     "metadata": {
      "needs_background": "light"
     },
     "output_type": "display_data"
    }
   ],
   "source": [
    "sns.histplot(data=df,x='Manufacturer',y=\"Price\")"
   ]
  },
  {
   "cell_type": "code",
   "execution_count": 10,
   "id": "a14b2868",
   "metadata": {
    "execution": {
     "iopub.execute_input": "2022-07-07T21:02:28.908804Z",
     "iopub.status.busy": "2022-07-07T21:02:28.908227Z",
     "iopub.status.idle": "2022-07-07T21:02:31.861456Z",
     "shell.execute_reply": "2022-07-07T21:02:31.860651Z"
    },
    "papermill": {
     "duration": 2.968167,
     "end_time": "2022-07-07T21:02:31.863586",
     "exception": false,
     "start_time": "2022-07-07T21:02:28.895419",
     "status": "completed"
    },
    "tags": []
   },
   "outputs": [
    {
     "data": {
      "text/plain": [
       "<AxesSubplot:xlabel='Manufacturer', ylabel='Price'>"
      ]
     },
     "execution_count": 10,
     "metadata": {},
     "output_type": "execute_result"
    },
    {
     "data": {
      "image/png": "[encoded data removed]",
      "text/plain": [
       "<Figure size 432x288 with 1 Axes>"
      ]
     },
     "metadata": {
      "needs_background": "light"
     },
     "output_type": "display_data"
    }
   ],
   "source": [
    "sns.barplot(data=df,x='Manufacturer',y=\"Price\")"
   ]
  },
  {
   "cell_type": "code",
   "execution_count": 11,
   "id": "bb1fe238",
   "metadata": {
    "execution": {
     "iopub.execute_input": "2022-07-07T21:02:31.888860Z",
     "iopub.status.busy": "2022-07-07T21:02:31.888408Z",
     "iopub.status.idle": "2022-07-07T21:02:31.898887Z",
     "shell.execute_reply": "2022-07-07T21:02:31.897550Z"
    },
    "papermill": {
     "duration": 0.026139,
     "end_time": "2022-07-07T21:02:31.901564",
     "exception": false,
     "start_time": "2022-07-07T21:02:31.875425",
     "status": "completed"
    },
    "tags": []
   },
   "outputs": [],
   "source": [
    "df_price = df.groupby(by=['Manufacturer'])['Price'].mean()"
   ]
  },
  {
   "cell_type": "code",
   "execution_count": 12,
   "id": "6eece3ad",
   "metadata": {
    "execution": {
     "iopub.execute_input": "2022-07-07T21:02:31.926457Z",
     "iopub.status.busy": "2022-07-07T21:02:31.925445Z",
     "iopub.status.idle": "2022-07-07T21:02:31.932647Z",
     "shell.execute_reply": "2022-07-07T21:02:31.931827Z"
    },
    "papermill": {
     "duration": 0.021928,
     "end_time": "2022-07-07T21:02:31.934803",
     "exception": false,
     "start_time": "2022-07-07T21:02:31.912875",
     "status": "completed"
    },
    "tags": []
   },
   "outputs": [
    {
     "data": {
      "text/plain": [
       "Index(['ACURA', 'ALFA ROMEO', 'ASTON MARTIN', 'AUDI', 'BENTLEY', 'BMW',\n",
       "       'BUICK', 'CADILLAC', 'CHEVROLET', 'CHRYSLER', 'CITROEN', 'DAEWOO',\n",
       "       'DAIHATSU', 'DODGE', 'FERRARI', 'FIAT', 'FORD', 'GAZ', 'GMC',\n",
       "       'GREATWALL', 'HAVAL', 'HONDA', 'HUMMER', 'HYUNDAI', 'INFINITI', 'ISUZU',\n",
       "       'JAGUAR', 'JEEP', 'KIA', 'LAMBORGHINI', 'LANCIA', 'LAND ROVER', 'LEXUS',\n",
       "       'LINCOLN', 'MASERATI', 'MAZDA', 'MERCEDES-BENZ', 'MERCURY', 'MINI',\n",
       "       'MITSUBISHI', 'MOSKVICH', 'NISSAN', 'OPEL', 'PEUGEOT', 'PONTIAC',\n",
       "       'PORSCHE', 'RENAULT', 'ROLLS-ROYCE', 'ROVER', 'SAAB', 'SATURN', 'SCION',\n",
       "       'SEAT', 'SKODA', 'SSANGYONG', 'SUBARU', 'SUZUKI', 'TESLA', 'TOYOTA',\n",
       "       'UAZ', 'VAZ', 'VOLKSWAGEN', 'VOLVO', 'ZAZ', 'სხვა'],\n",
       "      dtype='object', name='Manufacturer')"
      ]
     },
     "execution_count": 12,
     "metadata": {},
     "output_type": "execute_result"
    }
   ],
   "source": [
    "df_price.index"
   ]
  },
  {
   "cell_type": "code",
   "execution_count": 13,
   "id": "3bf868e8",
   "metadata": {
    "execution": {
     "iopub.execute_input": "2022-07-07T21:02:31.960422Z",
     "iopub.status.busy": "2022-07-07T21:02:31.959688Z",
     "iopub.status.idle": "2022-07-07T21:02:31.981450Z",
     "shell.execute_reply": "2022-07-07T21:02:31.980351Z"
    },
    "papermill": {
     "duration": 0.037281,
     "end_time": "2022-07-07T21:02:31.983966",
     "exception": false,
     "start_time": "2022-07-07T21:02:31.946685",
     "status": "completed"
    },
    "tags": []
   },
   "outputs": [
    {
     "data": {
      "text/html": [
       "<div>\n",
       "<style scoped>\n",
       "    .dataframe tbody tr th:only-of-type {\n",
       "        vertical-align: middle;\n",
       "    }\n",
       "\n",
       "    .dataframe tbody tr th {\n",
       "        vertical-align: top;\n",
       "    }\n",
       "\n",
       "    .dataframe thead th {\n",
       "        text-align: right;\n",
       "    }\n",
       "</style>\n",
       "<table border=\"1\" class=\"dataframe\">\n",
       "  <thead>\n",
       "    <tr style=\"text-align: right;\">\n",
       "      <th></th>\n",
       "      <th>ID</th>\n",
       "      <th>Price</th>\n",
       "      <th>Levy</th>\n",
       "      <th>Manufacturer</th>\n",
       "      <th>Model</th>\n",
       "      <th>Prod. year</th>\n",
       "      <th>Category</th>\n",
       "      <th>Leather interior</th>\n",
       "      <th>Fuel type</th>\n",
       "      <th>Engine volume</th>\n",
       "      <th>Mileage</th>\n",
       "      <th>Cylinders</th>\n",
       "      <th>Gear box type</th>\n",
       "      <th>Drive wheels</th>\n",
       "      <th>Doors</th>\n",
       "      <th>Wheel</th>\n",
       "      <th>Color</th>\n",
       "      <th>Airbags</th>\n",
       "    </tr>\n",
       "  </thead>\n",
       "  <tbody>\n",
       "    <tr>\n",
       "      <th>8541</th>\n",
       "      <td>45761204</td>\n",
       "      <td>872946</td>\n",
       "      <td>2067</td>\n",
       "      <td>LAMBORGHINI</td>\n",
       "      <td>Urus</td>\n",
       "      <td>2019</td>\n",
       "      <td>Universal</td>\n",
       "      <td>Yes</td>\n",
       "      <td>Petrol</td>\n",
       "      <td>4</td>\n",
       "      <td>2531 km</td>\n",
       "      <td>8.0</td>\n",
       "      <td>Tiptronic</td>\n",
       "      <td>4x4</td>\n",
       "      <td>04-May</td>\n",
       "      <td>Left wheel</td>\n",
       "      <td>Black</td>\n",
       "      <td>0</td>\n",
       "    </tr>\n",
       "  </tbody>\n",
       "</table>\n",
       "</div>"
      ],
      "text/plain": [
       "            ID   Price  Levy Manufacturer Model  Prod. year   Category  \\\n",
       "8541  45761204  872946  2067  LAMBORGHINI  Urus        2019  Universal   \n",
       "\n",
       "     Leather interior Fuel type Engine volume  Mileage  Cylinders  \\\n",
       "8541              Yes    Petrol             4  2531 km        8.0   \n",
       "\n",
       "     Gear box type Drive wheels   Doors       Wheel  Color  Airbags  \n",
       "8541     Tiptronic          4x4  04-May  Left wheel  Black        0  "
      ]
     },
     "execution_count": 13,
     "metadata": {},
     "output_type": "execute_result"
    }
   ],
   "source": [
    "df[df['Manufacturer']==\"LAMBORGHINI\"]"
   ]
  },
  {
   "cell_type": "code",
   "execution_count": 14,
   "id": "bece4757",
   "metadata": {
    "execution": {
     "iopub.execute_input": "2022-07-07T21:02:32.010481Z",
     "iopub.status.busy": "2022-07-07T21:02:32.009176Z",
     "iopub.status.idle": "2022-07-07T21:02:33.238539Z",
     "shell.execute_reply": "2022-07-07T21:02:33.237213Z"
    },
    "papermill": {
     "duration": 1.245667,
     "end_time": "2022-07-07T21:02:33.241665",
     "exception": false,
     "start_time": "2022-07-07T21:02:31.995998",
     "status": "completed"
    },
    "tags": []
   },
   "outputs": [
    {
     "data": {
      "text/html": [
       "        <script type=\"text/javascript\">\n",
       "        window.PlotlyConfig = {MathJaxConfig: 'local'};\n",
       "        if (window.MathJax && window.MathJax.Hub && window.MathJax.Hub.Config) {window.MathJax.Hub.Config({SVG: {font: \"STIX-Web\"}});}\n",
       "        if (typeof require !== 'undefined') {\n",
       "        require.undef(\"plotly\");\n",
       "        requirejs.config({\n",
       "            paths: {\n",
       "                'plotly': ['https://cdn.plot.ly/plotly-2.12.1.min']\n",
       "            }\n",
       "        });\n",
       "        require(['plotly'], function(Plotly) {\n",
       "            window._Plotly = Plotly;\n",
       "        });\n",
       "        }\n",
       "        </script>\n",
       "        "
      ]
     },
     "metadata": {},
     "output_type": "display_data"
    },
    {
     "data": {
      "text/html": [
       "<div>                            <div id=\"8c986e6f-91e7-4923-a998-e7cd2a70b4ff\" class=\"plotly-graph-div\" style=\"height:525px; width:100%;\"></div>            <script type=\"text/javascript\">                require([\"plotly\"], function(Plotly) {                    window.PLOTLYENV=window.PLOTLYENV || {};                                    if (document.getElementById(\"8c986e6f-91e7-4923-a998-e7cd2a70b4ff\")) {                    Plotly.newPlot(                        \"8c986e6f-91e7-4923-a998-e7cd2a70b4ff\",                        [{\"alignmentgroup\":\"True\",\"hovertemplate\":\"x=%{x}<br>y=%{y}<extra></extra>\",\"legendgroup\":\"\",\"marker\":{\"color\":\"#636efa\",\"pattern\":{\"shape\":\"\"}},\"name\":\"\",\"offsetgroup\":\"\",\"orientation\":\"v\",\"showlegend\":false,\"textposition\":\"auto\",\"x\":[\"ACURA\",\"ALFA ROMEO\",\"ASTON MARTIN\",\"AUDI\",\"BENTLEY\",\"BMW\",\"BUICK\",\"CADILLAC\",\"CHEVROLET\",\"CHRYSLER\",\"CITROEN\",\"DAEWOO\",\"DAIHATSU\",\"DODGE\",\"FERRARI\",\"FIAT\",\"FORD\",\"GAZ\",\"GMC\",\"GREATWALL\",\"HAVAL\",\"HONDA\",\"HUMMER\",\"HYUNDAI\",\"INFINITI\",\"ISUZU\",\"JAGUAR\",\"JEEP\",\"KIA\",\"LAMBORGHINI\",\"LANCIA\",\"LAND ROVER\",\"LEXUS\",\"LINCOLN\",\"MASERATI\",\"MAZDA\",\"MERCEDES-BENZ\",\"MERCURY\",\"MINI\",\"MITSUBISHI\",\"MOSKVICH\",\"NISSAN\",\"OPEL\",\"PEUGEOT\",\"PONTIAC\",\"PORSCHE\",\"RENAULT\",\"ROLLS-ROYCE\",\"ROVER\",\"SAAB\",\"SATURN\",\"SCION\",\"SEAT\",\"SKODA\",\"SSANGYONG\",\"SUBARU\",\"SUZUKI\",\"TESLA\",\"TOYOTA\",\"UAZ\",\"VAZ\",\"VOLKSWAGEN\",\"VOLVO\",\"ZAZ\",\"სხვა\"],\"xaxis\":\"x\",\"y\":[5910.933333333333,9890.25,54000.0,14106.545098039216,197574.5,20876.79218303146,11074.375,13514.5,14926.368568755846,8631.538461538461,10640.444444444445,6973.142857142857,5402.7692307692305,8458.45054945055,66955.5,11186.064102564103,15573.98199819982,10481.666666666666,6831.4,10036.0,15053.0,14291.335721596724,31210.6,22338.447864154947,19774.8,9643.5,34408.78571428572,25409.427536231884,15251.477434679335,872946.0,12231.0,54053.489795918365,19191.27698574338,13651.6,20149.5,9533.245901639344,18609.38294797688,12544.5,17135.520833333332,13146.975778546714,4609.0,10032.327272727272,7057.651515151515,13470.117647058823,6600.0,47106.03703703704,11464.351351351352,178.5,2433.3333333333335,6920.0,13799.0,16173.0,4829.5,15079.8,30894.637188208617,9998.698181818181,11833.105263157895,53941.0,14248.982250136538,5290.75,4613.583333333333,11640.421416234887,10278.894736842105,3822.5,17248.5],\"yaxis\":\"y\",\"type\":\"bar\"}],                        {\"template\":{\"data\":{\"histogram2dcontour\":[{\"type\":\"histogram2dcontour\",\"colorbar\":{\"outlinewidth\":0,\"ticks\":\"\"},\"colorscale\":[[0.0,\"#0d0887\"],[0.1111111111111111,\"#46039f\"],[0.2222222222222222,\"#7201a8\"],[0.3333333333333333,\"#9c179e\"],[0.4444444444444444,\"#bd3786\"],[0.5555555555555556,\"#d8576b\"],[0.6666666666666666,\"#ed7953\"],[0.7777777777777778,\"#fb9f3a\"],[0.8888888888888888,\"#fdca26\"],[1.0,\"#f0f921\"]]}],\"choropleth\":[{\"type\":\"choropleth\",\"colorbar\":{\"outlinewidth\":0,\"ticks\":\"\"}}],\"histogram2d\":[{\"type\":\"histogram2d\",\"colorbar\":{\"outlinewidth\":0,\"ticks\":\"\"},\"colorscale\":[[0.0,\"#0d0887\"],[0.1111111111111111,\"#46039f\"],[0.2222222222222222,\"#7201a8\"],[0.3333333333333333,\"#9c179e\"],[0.4444444444444444,\"#bd3786\"],[0.5555555555555556,\"#d8576b\"],[0.6666666666666666,\"#ed7953\"],[0.7777777777777778,\"#fb9f3a\"],[0.8888888888888888,\"#fdca26\"],[1.0,\"#f0f921\"]]}],\"heatmap\":[{\"type\":\"heatmap\",\"colorbar\":{\"outlinewidth\":0,\"ticks\":\"\"},\"colorscale\":[[0.0,\"#0d0887\"],[0.1111111111111111,\"#46039f\"],[0.2222222222222222,\"#7201a8\"],[0.3333333333333333,\"#9c179e\"],[0.4444444444444444,\"#bd3786\"],[0.5555555555555556,\"#d8576b\"],[0.6666666666666666,\"#ed7953\"],[0.7777777777777778,\"#fb9f3a\"],[0.8888888888888888,\"#fdca26\"],[1.0,\"#f0f921\"]]}],\"heatmapgl\":[{\"type\":\"heatmapgl\",\"colorbar\":{\"outlinewidth\":0,\"ticks\":\"\"},\"colorscale\":[[0.0,\"#0d0887\"],[0.1111111111111111,\"#46039f\"],[0.2222222222222222,\"#7201a8\"],[0.3333333333333333,\"#9c179e\"],[0.4444444444444444,\"#bd3786\"],[0.5555555555555556,\"#d8576b\"],[0.6666666666666666,\"#ed7953\"],[0.7777777777777778,\"#fb9f3a\"],[0.8888888888888888,\"#fdca26\"],[1.0,\"#f0f921\"]]}],\"contourcarpet\":[{\"type\":\"contourcarpet\",\"colorbar\":{\"outlinewidth\":0,\"ticks\":\"\"}}],\"contour\":[{\"type\":\"contour\",\"colorbar\":{\"outlinewidth\":0,\"ticks\":\"\"},\"colorscale\":[[0.0,\"#0d0887\"],[0.1111111111111111,\"#46039f\"],[0.2222222222222222,\"#7201a8\"],[0.3333333333333333,\"#9c179e\"],[0.4444444444444444,\"#bd3786\"],[0.5555555555555556,\"#d8576b\"],[0.6666666666666666,\"#ed7953\"],[0.7777777777777778,\"#fb9f3a\"],[0.8888888888888888,\"#fdca26\"],[1.0,\"#f0f921\"]]}],\"surface\":[{\"type\":\"surface\",\"colorbar\":{\"outlinewidth\":0,\"ticks\":\"\"},\"colorscale\":[[0.0,\"#0d0887\"],[0.1111111111111111,\"#46039f\"],[0.2222222222222222,\"#7201a8\"],[0.3333333333333333,\"#9c179e\"],[0.4444444444444444,\"#bd3786\"],[0.5555555555555556,\"#d8576b\"],[0.6666666666666666,\"#ed7953\"],[0.7777777777777778,\"#fb9f3a\"],[0.8888888888888888,\"#fdca26\"],[1.0,\"#f0f921\"]]}],\"mesh3d\":[{\"type\":\"mesh3d\",\"colorbar\":{\"outlinewidth\":0,\"ticks\":\"\"}}],\"scatter\":[{\"fillpattern\":{\"fillmode\":\"overlay\",\"size\":10,\"solidity\":0.2},\"type\":\"scatter\"}],\"parcoords\":[{\"type\":\"parcoords\",\"line\":{\"colorbar\":{\"outlinewidth\":0,\"ticks\":\"\"}}}],\"scatterpolargl\":[{\"type\":\"scatterpolargl\",\"marker\":{\"colorbar\":{\"outlinewidth\":0,\"ticks\":\"\"}}}],\"bar\":[{\"error_x\":{\"color\":\"#2a3f5f\"},\"error_y\":{\"color\":\"#2a3f5f\"},\"marker\":{\"line\":{\"color\":\"#E5ECF6\",\"width\":0.5},\"pattern\":{\"fillmode\":\"overlay\",\"size\":10,\"solidity\":0.2}},\"type\":\"bar\"}],\"scattergeo\":[{\"type\":\"scattergeo\",\"marker\":{\"colorbar\":{\"outlinewidth\":0,\"ticks\":\"\"}}}],\"scatterpolar\":[{\"type\":\"scatterpolar\",\"marker\":{\"colorbar\":{\"outlinewidth\":0,\"ticks\":\"\"}}}],\"histogram\":[{\"marker\":{\"pattern\":{\"fillmode\":\"overlay\",\"size\":10,\"solidity\":0.2}},\"type\":\"histogram\"}],\"scattergl\":[{\"type\":\"scattergl\",\"marker\":{\"colorbar\":{\"outlinewidth\":0,\"ticks\":\"\"}}}],\"scatter3d\":[{\"type\":\"scatter3d\",\"line\":{\"colorbar\":{\"outlinewidth\":0,\"ticks\":\"\"}},\"marker\":{\"colorbar\":{\"outlinewidth\":0,\"ticks\":\"\"}}}],\"scattermapbox\":[{\"type\":\"scattermapbox\",\"marker\":{\"colorbar\":{\"outlinewidth\":0,\"ticks\":\"\"}}}],\"scatterternary\":[{\"type\":\"scatterternary\",\"marker\":{\"colorbar\":{\"outlinewidth\":0,\"ticks\":\"\"}}}],\"scattercarpet\":[{\"type\":\"scattercarpet\",\"marker\":{\"colorbar\":{\"outlinewidth\":0,\"ticks\":\"\"}}}],\"carpet\":[{\"aaxis\":{\"endlinecolor\":\"#2a3f5f\",\"gridcolor\":\"white\",\"linecolor\":\"white\",\"minorgridcolor\":\"white\",\"startlinecolor\":\"#2a3f5f\"},\"baxis\":{\"endlinecolor\":\"#2a3f5f\",\"gridcolor\":\"white\",\"linecolor\":\"white\",\"minorgridcolor\":\"white\",\"startlinecolor\":\"#2a3f5f\"},\"type\":\"carpet\"}],\"table\":[{\"cells\":{\"fill\":{\"color\":\"#EBF0F8\"},\"line\":{\"color\":\"white\"}},\"header\":{\"fill\":{\"color\":\"#C8D4E3\"},\"line\":{\"color\":\"white\"}},\"type\":\"table\"}],\"barpolar\":[{\"marker\":{\"line\":{\"color\":\"#E5ECF6\",\"width\":0.5},\"pattern\":{\"fillmode\":\"overlay\",\"size\":10,\"solidity\":0.2}},\"type\":\"barpolar\"}],\"pie\":[{\"automargin\":true,\"type\":\"pie\"}]},\"layout\":{\"autotypenumbers\":\"strict\",\"colorway\":[\"#636efa\",\"#EF553B\",\"#00cc96\",\"#ab63fa\",\"#FFA15A\",\"#19d3f3\",\"#FF6692\",\"#B6E880\",\"#FF97FF\",\"#FECB52\"],\"font\":{\"color\":\"#2a3f5f\"},\"hovermode\":\"closest\",\"hoverlabel\":{\"align\":\"left\"},\"paper_bgcolor\":\"white\",\"plot_bgcolor\":\"#E5ECF6\",\"polar\":{\"bgcolor\":\"#E5ECF6\",\"angularaxis\":{\"gridcolor\":\"white\",\"linecolor\":\"white\",\"ticks\":\"\"},\"radialaxis\":{\"gridcolor\":\"white\",\"linecolor\":\"white\",\"ticks\":\"\"}},\"ternary\":{\"bgcolor\":\"#E5ECF6\",\"aaxis\":{\"gridcolor\":\"white\",\"linecolor\":\"white\",\"ticks\":\"\"},\"baxis\":{\"gridcolor\":\"white\",\"linecolor\":\"white\",\"ticks\":\"\"},\"caxis\":{\"gridcolor\":\"white\",\"linecolor\":\"white\",\"ticks\":\"\"}},\"coloraxis\":{\"colorbar\":{\"outlinewidth\":0,\"ticks\":\"\"}},\"colorscale\":{\"sequential\":[[0.0,\"#0d0887\"],[0.1111111111111111,\"#46039f\"],[0.2222222222222222,\"#7201a8\"],[0.3333333333333333,\"#9c179e\"],[0.4444444444444444,\"#bd3786\"],[0.5555555555555556,\"#d8576b\"],[0.6666666666666666,\"#ed7953\"],[0.7777777777777778,\"#fb9f3a\"],[0.8888888888888888,\"#fdca26\"],[1.0,\"#f0f921\"]],\"sequentialminus\":[[0.0,\"#0d0887\"],[0.1111111111111111,\"#46039f\"],[0.2222222222222222,\"#7201a8\"],[0.3333333333333333,\"#9c179e\"],[0.4444444444444444,\"#bd3786\"],[0.5555555555555556,\"#d8576b\"],[0.6666666666666666,\"#ed7953\"],[0.7777777777777778,\"#fb9f3a\"],[0.8888888888888888,\"#fdca26\"],[1.0,\"#f0f921\"]],\"diverging\":[[0,\"#8e0152\"],[0.1,\"#c51b7d\"],[0.2,\"#de77ae\"],[0.3,\"#f1b6da\"],[0.4,\"#fde0ef\"],[0.5,\"#f7f7f7\"],[0.6,\"#e6f5d0\"],[0.7,\"#b8e186\"],[0.8,\"#7fbc41\"],[0.9,\"#4d9221\"],[1,\"#276419\"]]},\"xaxis\":{\"gridcolor\":\"white\",\"linecolor\":\"white\",\"ticks\":\"\",\"title\":{\"standoff\":15},\"zerolinecolor\":\"white\",\"automargin\":true,\"zerolinewidth\":2},\"yaxis\":{\"gridcolor\":\"white\",\"linecolor\":\"white\",\"ticks\":\"\",\"title\":{\"standoff\":15},\"zerolinecolor\":\"white\",\"automargin\":true,\"zerolinewidth\":2},\"scene\":{\"xaxis\":{\"backgroundcolor\":\"#E5ECF6\",\"gridcolor\":\"white\",\"linecolor\":\"white\",\"showbackground\":true,\"ticks\":\"\",\"zerolinecolor\":\"white\",\"gridwidth\":2},\"yaxis\":{\"backgroundcolor\":\"#E5ECF6\",\"gridcolor\":\"white\",\"linecolor\":\"white\",\"showbackground\":true,\"ticks\":\"\",\"zerolinecolor\":\"white\",\"gridwidth\":2},\"zaxis\":{\"backgroundcolor\":\"#E5ECF6\",\"gridcolor\":\"white\",\"linecolor\":\"white\",\"showbackground\":true,\"ticks\":\"\",\"zerolinecolor\":\"white\",\"gridwidth\":2}},\"shapedefaults\":{\"line\":{\"color\":\"#2a3f5f\"}},\"annotationdefaults\":{\"arrowcolor\":\"#2a3f5f\",\"arrowhead\":0,\"arrowwidth\":1},\"geo\":{\"bgcolor\":\"white\",\"landcolor\":\"#E5ECF6\",\"subunitcolor\":\"white\",\"showland\":true,\"showlakes\":true,\"lakecolor\":\"white\"},\"title\":{\"x\":0.05},\"mapbox\":{\"style\":\"light\"}}},\"xaxis\":{\"anchor\":\"y\",\"domain\":[0.0,1.0],\"title\":{\"text\":\"x\"}},\"yaxis\":{\"anchor\":\"x\",\"domain\":[0.0,1.0],\"title\":{\"text\":\"y\"}},\"legend\":{\"tracegroupgap\":0},\"margin\":{\"t\":60},\"barmode\":\"relative\"},                        {\"responsive\": true}                    ).then(function(){\n",
       "                            \n",
       "var gd = document.getElementById('8c986e6f-91e7-4923-a998-e7cd2a70b4ff');\n",
       "var x = new MutationObserver(function (mutations, observer) {{\n",
       "        var display = window.getComputedStyle(gd).display;\n",
       "        if (!display || display === 'none') {{\n",
       "            console.log([gd, 'removed!']);\n",
       "            Plotly.purge(gd);\n",
       "            observer.disconnect();\n",
       "        }}\n",
       "}});\n",
       "\n",
       "// Listen for the removal of the full notebook cells\n",
       "var notebookContainer = gd.closest('#notebook-container');\n",
       "if (notebookContainer) {{\n",
       "    x.observe(notebookContainer, {childList: true});\n",
       "}}\n",
       "\n",
       "// Listen for the clearing of the current output cell\n",
       "var outputEl = gd.closest('.output');\n",
       "if (outputEl) {{\n",
       "    x.observe(outputEl, {childList: true});\n",
       "}}\n",
       "\n",
       "                        })                };                });            </script>        </div>"
      ]
     },
     "metadata": {},
     "output_type": "display_data"
    }
   ],
   "source": [
    "px.bar(x=df_price.index,y=df_price.values)"
   ]
  },
  {
   "cell_type": "code",
   "execution_count": 15,
   "id": "ac2d409e",
   "metadata": {
    "execution": {
     "iopub.execute_input": "2022-07-07T21:02:33.268204Z",
     "iopub.status.busy": "2022-07-07T21:02:33.267489Z",
     "iopub.status.idle": "2022-07-07T21:02:33.279980Z",
     "shell.execute_reply": "2022-07-07T21:02:33.278967Z"
    },
    "papermill": {
     "duration": 0.028559,
     "end_time": "2022-07-07T21:02:33.282465",
     "exception": false,
     "start_time": "2022-07-07T21:02:33.253906",
     "status": "completed"
    },
    "tags": []
   },
   "outputs": [],
   "source": [
    "df_n = df[df['Manufacturer']!=\"LAMBORGHINI\"]"
   ]
  },
  {
   "cell_type": "code",
   "execution_count": 16,
   "id": "3d46bc64",
   "metadata": {
    "execution": {
     "iopub.execute_input": "2022-07-07T21:02:33.308777Z",
     "iopub.status.busy": "2022-07-07T21:02:33.307971Z",
     "iopub.status.idle": "2022-07-07T21:02:33.317315Z",
     "shell.execute_reply": "2022-07-07T21:02:33.316496Z"
    },
    "papermill": {
     "duration": 0.025411,
     "end_time": "2022-07-07T21:02:33.319829",
     "exception": false,
     "start_time": "2022-07-07T21:02:33.294418",
     "status": "completed"
    },
    "tags": []
   },
   "outputs": [],
   "source": [
    "df_price_n = df_n.groupby(by=['Manufacturer'])['Price'].mean()"
   ]
  },
  {
   "cell_type": "code",
   "execution_count": 17,
   "id": "b271f11a",
   "metadata": {
    "execution": {
     "iopub.execute_input": "2022-07-07T21:02:33.346741Z",
     "iopub.status.busy": "2022-07-07T21:02:33.345958Z",
     "iopub.status.idle": "2022-07-07T21:02:33.412106Z",
     "shell.execute_reply": "2022-07-07T21:02:33.410878Z"
    },
    "papermill": {
     "duration": 0.082546,
     "end_time": "2022-07-07T21:02:33.414504",
     "exception": false,
     "start_time": "2022-07-07T21:02:33.331958",
     "status": "completed"
    },
    "tags": []
   },
   "outputs": [
    {
     "data": {
      "text/html": [
       "<div>                            <div id=\"b50f19fd-999d-42fd-993e-054bd9598548\" class=\"plotly-graph-div\" style=\"height:525px; width:100%;\"></div>            <script type=\"text/javascript\">                require([\"plotly\"], function(Plotly) {                    window.PLOTLYENV=window.PLOTLYENV || {};                                    if (document.getElementById(\"b50f19fd-999d-42fd-993e-054bd9598548\")) {                    Plotly.newPlot(                        \"b50f19fd-999d-42fd-993e-054bd9598548\",                        [{\"alignmentgroup\":\"True\",\"hovertemplate\":\"x=%{x}<br>y=%{y}<extra></extra>\",\"legendgroup\":\"\",\"marker\":{\"color\":\"#636efa\",\"pattern\":{\"shape\":\"\"}},\"name\":\"\",\"offsetgroup\":\"\",\"orientation\":\"v\",\"showlegend\":false,\"textposition\":\"auto\",\"x\":[\"ACURA\",\"ALFA ROMEO\",\"ASTON MARTIN\",\"AUDI\",\"BENTLEY\",\"BMW\",\"BUICK\",\"CADILLAC\",\"CHEVROLET\",\"CHRYSLER\",\"CITROEN\",\"DAEWOO\",\"DAIHATSU\",\"DODGE\",\"FERRARI\",\"FIAT\",\"FORD\",\"GAZ\",\"GMC\",\"GREATWALL\",\"HAVAL\",\"HONDA\",\"HUMMER\",\"HYUNDAI\",\"INFINITI\",\"ISUZU\",\"JAGUAR\",\"JEEP\",\"KIA\",\"LANCIA\",\"LAND ROVER\",\"LEXUS\",\"LINCOLN\",\"MASERATI\",\"MAZDA\",\"MERCEDES-BENZ\",\"MERCURY\",\"MINI\",\"MITSUBISHI\",\"MOSKVICH\",\"NISSAN\",\"OPEL\",\"PEUGEOT\",\"PONTIAC\",\"PORSCHE\",\"RENAULT\",\"ROLLS-ROYCE\",\"ROVER\",\"SAAB\",\"SATURN\",\"SCION\",\"SEAT\",\"SKODA\",\"SSANGYONG\",\"SUBARU\",\"SUZUKI\",\"TESLA\",\"TOYOTA\",\"UAZ\",\"VAZ\",\"VOLKSWAGEN\",\"VOLVO\",\"ZAZ\",\"სხვა\"],\"xaxis\":\"x\",\"y\":[5910.933333333333,9890.25,54000.0,14106.545098039216,197574.5,20876.79218303146,11074.375,13514.5,14926.368568755846,8631.538461538461,10640.444444444445,6973.142857142857,5402.7692307692305,8458.45054945055,66955.5,11186.064102564103,15573.98199819982,10481.666666666666,6831.4,10036.0,15053.0,14291.335721596724,31210.6,22338.447864154947,19774.8,9643.5,34408.78571428572,25409.427536231884,15251.477434679335,12231.0,54053.489795918365,19191.27698574338,13651.6,20149.5,9533.245901639344,18609.38294797688,12544.5,17135.520833333332,13146.975778546714,4609.0,10032.327272727272,7057.651515151515,13470.117647058823,6600.0,47106.03703703704,11464.351351351352,178.5,2433.3333333333335,6920.0,13799.0,16173.0,4829.5,15079.8,30894.637188208617,9998.698181818181,11833.105263157895,53941.0,14248.982250136538,5290.75,4613.583333333333,11640.421416234887,10278.894736842105,3822.5,17248.5],\"yaxis\":\"y\",\"type\":\"bar\"}],                        {\"template\":{\"data\":{\"histogram2dcontour\":[{\"type\":\"histogram2dcontour\",\"colorbar\":{\"outlinewidth\":0,\"ticks\":\"\"},\"colorscale\":[[0.0,\"#0d0887\"],[0.1111111111111111,\"#46039f\"],[0.2222222222222222,\"#7201a8\"],[0.3333333333333333,\"#9c179e\"],[0.4444444444444444,\"#bd3786\"],[0.5555555555555556,\"#d8576b\"],[0.6666666666666666,\"#ed7953\"],[0.7777777777777778,\"#fb9f3a\"],[0.8888888888888888,\"#fdca26\"],[1.0,\"#f0f921\"]]}],\"choropleth\":[{\"type\":\"choropleth\",\"colorbar\":{\"outlinewidth\":0,\"ticks\":\"\"}}],\"histogram2d\":[{\"type\":\"histogram2d\",\"colorbar\":{\"outlinewidth\":0,\"ticks\":\"\"},\"colorscale\":[[0.0,\"#0d0887\"],[0.1111111111111111,\"#46039f\"],[0.2222222222222222,\"#7201a8\"],[0.3333333333333333,\"#9c179e\"],[0.4444444444444444,\"#bd3786\"],[0.5555555555555556,\"#d8576b\"],[0.6666666666666666,\"#ed7953\"],[0.7777777777777778,\"#fb9f3a\"],[0.8888888888888888,\"#fdca26\"],[1.0,\"#f0f921\"]]}],\"heatmap\":[{\"type\":\"heatmap\",\"colorbar\":{\"outlinewidth\":0,\"ticks\":\"\"},\"colorscale\":[[0.0,\"#0d0887\"],[0.1111111111111111,\"#46039f\"],[0.2222222222222222,\"#7201a8\"],[0.3333333333333333,\"#9c179e\"],[0.4444444444444444,\"#bd3786\"],[0.5555555555555556,\"#d8576b\"],[0.6666666666666666,\"#ed7953\"],[0.7777777777777778,\"#fb9f3a\"],[0.8888888888888888,\"#fdca26\"],[1.0,\"#f0f921\"]]}],\"heatmapgl\":[{\"type\":\"heatmapgl\",\"colorbar\":{\"outlinewidth\":0,\"ticks\":\"\"},\"colorscale\":[[0.0,\"#0d0887\"],[0.1111111111111111,\"#46039f\"],[0.2222222222222222,\"#7201a8\"],[0.3333333333333333,\"#9c179e\"],[0.4444444444444444,\"#bd3786\"],[0.5555555555555556,\"#d8576b\"],[0.6666666666666666,\"#ed7953\"],[0.7777777777777778,\"#fb9f3a\"],[0.8888888888888888,\"#fdca26\"],[1.0,\"#f0f921\"]]}],\"contourcarpet\":[{\"type\":\"contourcarpet\",\"colorbar\":{\"outlinewidth\":0,\"ticks\":\"\"}}],\"contour\":[{\"type\":\"contour\",\"colorbar\":{\"outlinewidth\":0,\"ticks\":\"\"},\"colorscale\":[[0.0,\"#0d0887\"],[0.1111111111111111,\"#46039f\"],[0.2222222222222222,\"#7201a8\"],[0.3333333333333333,\"#9c179e\"],[0.4444444444444444,\"#bd3786\"],[0.5555555555555556,\"#d8576b\"],[0.6666666666666666,\"#ed7953\"],[0.7777777777777778,\"#fb9f3a\"],[0.8888888888888888,\"#fdca26\"],[1.0,\"#f0f921\"]]}],\"surface\":[{\"type\":\"surface\",\"colorbar\":{\"outlinewidth\":0,\"ticks\":\"\"},\"colorscale\":[[0.0,\"#0d0887\"],[0.1111111111111111,\"#46039f\"],[0.2222222222222222,\"#7201a8\"],[0.3333333333333333,\"#9c179e\"],[0.4444444444444444,\"#bd3786\"],[0.5555555555555556,\"#d8576b\"],[0.6666666666666666,\"#ed7953\"],[0.7777777777777778,\"#fb9f3a\"],[0.8888888888888888,\"#fdca26\"],[1.0,\"#f0f921\"]]}],\"mesh3d\":[{\"type\":\"mesh3d\",\"colorbar\":{\"outlinewidth\":0,\"ticks\":\"\"}}],\"scatter\":[{\"fillpattern\":{\"fillmode\":\"overlay\",\"size\":10,\"solidity\":0.2},\"type\":\"scatter\"}],\"parcoords\":[{\"type\":\"parcoords\",\"line\":{\"colorbar\":{\"outlinewidth\":0,\"ticks\":\"\"}}}],\"scatterpolargl\":[{\"type\":\"scatterpolargl\",\"marker\":{\"colorbar\":{\"outlinewidth\":0,\"ticks\":\"\"}}}],\"bar\":[{\"error_x\":{\"color\":\"#2a3f5f\"},\"error_y\":{\"color\":\"#2a3f5f\"},\"marker\":{\"line\":{\"color\":\"#E5ECF6\",\"width\":0.5},\"pattern\":{\"fillmode\":\"overlay\",\"size\":10,\"solidity\":0.2}},\"type\":\"bar\"}],\"scattergeo\":[{\"type\":\"scattergeo\",\"marker\":{\"colorbar\":{\"outlinewidth\":0,\"ticks\":\"\"}}}],\"scatterpolar\":[{\"type\":\"scatterpolar\",\"marker\":{\"colorbar\":{\"outlinewidth\":0,\"ticks\":\"\"}}}],\"histogram\":[{\"marker\":{\"pattern\":{\"fillmode\":\"overlay\",\"size\":10,\"solidity\":0.2}},\"type\":\"histogram\"}],\"scattergl\":[{\"type\":\"scattergl\",\"marker\":{\"colorbar\":{\"outlinewidth\":0,\"ticks\":\"\"}}}],\"scatter3d\":[{\"type\":\"scatter3d\",\"line\":{\"colorbar\":{\"outlinewidth\":0,\"ticks\":\"\"}},\"marker\":{\"colorbar\":{\"outlinewidth\":0,\"ticks\":\"\"}}}],\"scattermapbox\":[{\"type\":\"scattermapbox\",\"marker\":{\"colorbar\":{\"outlinewidth\":0,\"ticks\":\"\"}}}],\"scatterternary\":[{\"type\":\"scatterternary\",\"marker\":{\"colorbar\":{\"outlinewidth\":0,\"ticks\":\"\"}}}],\"scattercarpet\":[{\"type\":\"scattercarpet\",\"marker\":{\"colorbar\":{\"outlinewidth\":0,\"ticks\":\"\"}}}],\"carpet\":[{\"aaxis\":{\"endlinecolor\":\"#2a3f5f\",\"gridcolor\":\"white\",\"linecolor\":\"white\",\"minorgridcolor\":\"white\",\"startlinecolor\":\"#2a3f5f\"},\"baxis\":{\"endlinecolor\":\"#2a3f5f\",\"gridcolor\":\"white\",\"linecolor\":\"white\",\"minorgridcolor\":\"white\",\"startlinecolor\":\"#2a3f5f\"},\"type\":\"carpet\"}],\"table\":[{\"cells\":{\"fill\":{\"color\":\"#EBF0F8\"},\"line\":{\"color\":\"white\"}},\"header\":{\"fill\":{\"color\":\"#C8D4E3\"},\"line\":{\"color\":\"white\"}},\"type\":\"table\"}],\"barpolar\":[{\"marker\":{\"line\":{\"color\":\"#E5ECF6\",\"width\":0.5},\"pattern\":{\"fillmode\":\"overlay\",\"size\":10,\"solidity\":0.2}},\"type\":\"barpolar\"}],\"pie\":[{\"automargin\":true,\"type\":\"pie\"}]},\"layout\":{\"autotypenumbers\":\"strict\",\"colorway\":[\"#636efa\",\"#EF553B\",\"#00cc96\",\"#ab63fa\",\"#FFA15A\",\"#19d3f3\",\"#FF6692\",\"#B6E880\",\"#FF97FF\",\"#FECB52\"],\"font\":{\"color\":\"#2a3f5f\"},\"hovermode\":\"closest\",\"hoverlabel\":{\"align\":\"left\"},\"paper_bgcolor\":\"white\",\"plot_bgcolor\":\"#E5ECF6\",\"polar\":{\"bgcolor\":\"#E5ECF6\",\"angularaxis\":{\"gridcolor\":\"white\",\"linecolor\":\"white\",\"ticks\":\"\"},\"radialaxis\":{\"gridcolor\":\"white\",\"linecolor\":\"white\",\"ticks\":\"\"}},\"ternary\":{\"bgcolor\":\"#E5ECF6\",\"aaxis\":{\"gridcolor\":\"white\",\"linecolor\":\"white\",\"ticks\":\"\"},\"baxis\":{\"gridcolor\":\"white\",\"linecolor\":\"white\",\"ticks\":\"\"},\"caxis\":{\"gridcolor\":\"white\",\"linecolor\":\"white\",\"ticks\":\"\"}},\"coloraxis\":{\"colorbar\":{\"outlinewidth\":0,\"ticks\":\"\"}},\"colorscale\":{\"sequential\":[[0.0,\"#0d0887\"],[0.1111111111111111,\"#46039f\"],[0.2222222222222222,\"#7201a8\"],[0.3333333333333333,\"#9c179e\"],[0.4444444444444444,\"#bd3786\"],[0.5555555555555556,\"#d8576b\"],[0.6666666666666666,\"#ed7953\"],[0.7777777777777778,\"#fb9f3a\"],[0.8888888888888888,\"#fdca26\"],[1.0,\"#f0f921\"]],\"sequentialminus\":[[0.0,\"#0d0887\"],[0.1111111111111111,\"#46039f\"],[0.2222222222222222,\"#7201a8\"],[0.3333333333333333,\"#9c179e\"],[0.4444444444444444,\"#bd3786\"],[0.5555555555555556,\"#d8576b\"],[0.6666666666666666,\"#ed7953\"],[0.7777777777777778,\"#fb9f3a\"],[0.8888888888888888,\"#fdca26\"],[1.0,\"#f0f921\"]],\"diverging\":[[0,\"#8e0152\"],[0.1,\"#c51b7d\"],[0.2,\"#de77ae\"],[0.3,\"#f1b6da\"],[0.4,\"#fde0ef\"],[0.5,\"#f7f7f7\"],[0.6,\"#e6f5d0\"],[0.7,\"#b8e186\"],[0.8,\"#7fbc41\"],[0.9,\"#4d9221\"],[1,\"#276419\"]]},\"xaxis\":{\"gridcolor\":\"white\",\"linecolor\":\"white\",\"ticks\":\"\",\"title\":{\"standoff\":15},\"zerolinecolor\":\"white\",\"automargin\":true,\"zerolinewidth\":2},\"yaxis\":{\"gridcolor\":\"white\",\"linecolor\":\"white\",\"ticks\":\"\",\"title\":{\"standoff\":15},\"zerolinecolor\":\"white\",\"automargin\":true,\"zerolinewidth\":2},\"scene\":{\"xaxis\":{\"backgroundcolor\":\"#E5ECF6\",\"gridcolor\":\"white\",\"linecolor\":\"white\",\"showbackground\":true,\"ticks\":\"\",\"zerolinecolor\":\"white\",\"gridwidth\":2},\"yaxis\":{\"backgroundcolor\":\"#E5ECF6\",\"gridcolor\":\"white\",\"linecolor\":\"white\",\"showbackground\":true,\"ticks\":\"\",\"zerolinecolor\":\"white\",\"gridwidth\":2},\"zaxis\":{\"backgroundcolor\":\"#E5ECF6\",\"gridcolor\":\"white\",\"linecolor\":\"white\",\"showbackground\":true,\"ticks\":\"\",\"zerolinecolor\":\"white\",\"gridwidth\":2}},\"shapedefaults\":{\"line\":{\"color\":\"#2a3f5f\"}},\"annotationdefaults\":{\"arrowcolor\":\"#2a3f5f\",\"arrowhead\":0,\"arrowwidth\":1},\"geo\":{\"bgcolor\":\"white\",\"landcolor\":\"#E5ECF6\",\"subunitcolor\":\"white\",\"showland\":true,\"showlakes\":true,\"lakecolor\":\"white\"},\"title\":{\"x\":0.05},\"mapbox\":{\"style\":\"light\"}}},\"xaxis\":{\"anchor\":\"y\",\"domain\":[0.0,1.0],\"title\":{\"text\":\"x\"}},\"yaxis\":{\"anchor\":\"x\",\"domain\":[0.0,1.0],\"title\":{\"text\":\"y\"}},\"legend\":{\"tracegroupgap\":0},\"margin\":{\"t\":60},\"barmode\":\"relative\"},                        {\"responsive\": true}                    ).then(function(){\n",
       "                            \n",
       "var gd = document.getElementById('b50f19fd-999d-42fd-993e-054bd9598548');\n",
       "var x = new MutationObserver(function (mutations, observer) {{\n",
       "        var display = window.getComputedStyle(gd).display;\n",
       "        if (!display || display === 'none') {{\n",
       "            console.log([gd, 'removed!']);\n",
       "            Plotly.purge(gd);\n",
       "            observer.disconnect();\n",
       "        }}\n",
       "}});\n",
       "\n",
       "// Listen for the removal of the full notebook cells\n",
       "var notebookContainer = gd.closest('#notebook-container');\n",
       "if (notebookContainer) {{\n",
       "    x.observe(notebookContainer, {childList: true});\n",
       "}}\n",
       "\n",
       "// Listen for the clearing of the current output cell\n",
       "var outputEl = gd.closest('.output');\n",
       "if (outputEl) {{\n",
       "    x.observe(outputEl, {childList: true});\n",
       "}}\n",
       "\n",
       "                        })                };                });            </script>        </div>"
      ]
     },
     "metadata": {},
     "output_type": "display_data"
    }
   ],
   "source": [
    "px.bar(x=df_price_n.index,y=df_price_n.values)"
   ]
  },
  {
   "cell_type": "code",
   "execution_count": 18,
   "id": "58da324c",
   "metadata": {
    "execution": {
     "iopub.execute_input": "2022-07-07T21:02:33.441701Z",
     "iopub.status.busy": "2022-07-07T21:02:33.440475Z",
     "iopub.status.idle": "2022-07-07T21:02:33.461074Z",
     "shell.execute_reply": "2022-07-07T21:02:33.459916Z"
    },
    "papermill": {
     "duration": 0.0368,
     "end_time": "2022-07-07T21:02:33.463717",
     "exception": false,
     "start_time": "2022-07-07T21:02:33.426917",
     "status": "completed"
    },
    "tags": []
   },
   "outputs": [
    {
     "data": {
      "text/plain": [
       "(Index(['CITROEN', 'SCION', 'HUMMER', 'MASERATI', 'MERCURY', 'ISUZU',\n",
       "        'ALFA ROMEO', 'MOSKVICH', 'ROVER', 'FERRARI', 'SAAB', 'ROLLS-ROYCE',\n",
       "        'სხვა', 'SEAT', 'ZAZ', 'BENTLEY', 'LANCIA', 'HAVAL', 'LAMBORGHINI',\n",
       "        'TESLA', 'PONTIAC', 'SATURN', 'ASTON MARTIN', 'GREATWALL'],\n",
       "       dtype='object'),\n",
       " 24)"
      ]
     },
     "execution_count": 18,
     "metadata": {},
     "output_type": "execute_result"
    }
   ],
   "source": [
    "df['Manufacturer'].value_counts()[df['Manufacturer'].value_counts() <= 10].index, len(df['Manufacturer'].value_counts()[df['Manufacturer'].value_counts() <= 10].index)"
   ]
  },
  {
   "cell_type": "markdown",
   "id": "41675dc8",
   "metadata": {
    "papermill": {
     "duration": 0.012139,
     "end_time": "2022-07-07T21:02:33.488689",
     "exception": false,
     "start_time": "2022-07-07T21:02:33.476550",
     "status": "completed"
    },
    "tags": []
   },
   "source": [
    "As we can see there are 24 Manufacturers with less than 10 listings that skew our charts"
   ]
  },
  {
   "cell_type": "markdown",
   "id": "8c210ad2",
   "metadata": {
    "papermill": {
     "duration": 0.012021,
     "end_time": "2022-07-07T21:02:33.513162",
     "exception": false,
     "start_time": "2022-07-07T21:02:33.501141",
     "status": "completed"
    },
    "tags": []
   },
   "source": []
  },
  {
   "cell_type": "code",
   "execution_count": 19,
   "id": "3f029fba",
   "metadata": {
    "execution": {
     "iopub.execute_input": "2022-07-07T21:02:33.540229Z",
     "iopub.status.busy": "2022-07-07T21:02:33.539272Z",
     "iopub.status.idle": "2022-07-07T21:02:33.550751Z",
     "shell.execute_reply": "2022-07-07T21:02:33.549744Z"
    },
    "papermill": {
     "duration": 0.027616,
     "end_time": "2022-07-07T21:02:33.553269",
     "exception": false,
     "start_time": "2022-07-07T21:02:33.525653",
     "status": "completed"
    },
    "tags": []
   },
   "outputs": [],
   "source": [
    "less_than_10 = list(df['Manufacturer'].value_counts()[df['Manufacturer'].value_counts() <= 10].index)"
   ]
  },
  {
   "cell_type": "code",
   "execution_count": 20,
   "id": "5950158e",
   "metadata": {
    "execution": {
     "iopub.execute_input": "2022-07-07T21:02:33.580462Z",
     "iopub.status.busy": "2022-07-07T21:02:33.579758Z",
     "iopub.status.idle": "2022-07-07T21:02:33.585949Z",
     "shell.execute_reply": "2022-07-07T21:02:33.585167Z"
    },
    "papermill": {
     "duration": 0.022188,
     "end_time": "2022-07-07T21:02:33.587982",
     "exception": false,
     "start_time": "2022-07-07T21:02:33.565794",
     "status": "completed"
    },
    "tags": []
   },
   "outputs": [
    {
     "data": {
      "text/plain": [
       "['CITROEN',\n",
       " 'SCION',\n",
       " 'HUMMER',\n",
       " 'MASERATI',\n",
       " 'MERCURY',\n",
       " 'ISUZU',\n",
       " 'ALFA ROMEO',\n",
       " 'MOSKVICH',\n",
       " 'ROVER',\n",
       " 'FERRARI',\n",
       " 'SAAB',\n",
       " 'ROLLS-ROYCE',\n",
       " 'სხვა',\n",
       " 'SEAT',\n",
       " 'ZAZ',\n",
       " 'BENTLEY',\n",
       " 'LANCIA',\n",
       " 'HAVAL',\n",
       " 'LAMBORGHINI',\n",
       " 'TESLA',\n",
       " 'PONTIAC',\n",
       " 'SATURN',\n",
       " 'ASTON MARTIN',\n",
       " 'GREATWALL']"
      ]
     },
     "execution_count": 20,
     "metadata": {},
     "output_type": "execute_result"
    }
   ],
   "source": [
    "list(less_than_10)"
   ]
  },
  {
   "cell_type": "code",
   "execution_count": 21,
   "id": "ece21f2f",
   "metadata": {
    "execution": {
     "iopub.execute_input": "2022-07-07T21:02:33.616248Z",
     "iopub.status.busy": "2022-07-07T21:02:33.615525Z",
     "iopub.status.idle": "2022-07-07T21:02:33.627123Z",
     "shell.execute_reply": "2022-07-07T21:02:33.626128Z"
    },
    "papermill": {
     "duration": 0.028827,
     "end_time": "2022-07-07T21:02:33.629603",
     "exception": false,
     "start_time": "2022-07-07T21:02:33.600776",
     "status": "completed"
    },
    "tags": []
   },
   "outputs": [],
   "source": [
    "df_more_than_10 = df[~df['Manufacturer'].isin(less_than_10)]"
   ]
  },
  {
   "cell_type": "code",
   "execution_count": 22,
   "id": "27c898ce",
   "metadata": {
    "execution": {
     "iopub.execute_input": "2022-07-07T21:02:33.657239Z",
     "iopub.status.busy": "2022-07-07T21:02:33.656530Z",
     "iopub.status.idle": "2022-07-07T21:02:33.665090Z",
     "shell.execute_reply": "2022-07-07T21:02:33.664045Z"
    },
    "papermill": {
     "duration": 0.025096,
     "end_time": "2022-07-07T21:02:33.667404",
     "exception": false,
     "start_time": "2022-07-07T21:02:33.642308",
     "status": "completed"
    },
    "tags": []
   },
   "outputs": [],
   "source": [
    "df_price_more_than_10 = df_more_than_10.groupby(by=['Manufacturer'])['Price'].mean()"
   ]
  },
  {
   "cell_type": "code",
   "execution_count": 23,
   "id": "7cf797fd",
   "metadata": {
    "execution": {
     "iopub.execute_input": "2022-07-07T21:02:33.695304Z",
     "iopub.status.busy": "2022-07-07T21:02:33.694283Z",
     "iopub.status.idle": "2022-07-07T21:02:33.827799Z",
     "shell.execute_reply": "2022-07-07T21:02:33.826394Z"
    },
    "papermill": {
     "duration": 0.15017,
     "end_time": "2022-07-07T21:02:33.830339",
     "exception": false,
     "start_time": "2022-07-07T21:02:33.680169",
     "status": "completed"
    },
    "tags": []
   },
   "outputs": [
    {
     "data": {
      "text/html": [
       "<div>                            <div id=\"947cd159-3877-457e-b30b-ae554b78f719\" class=\"plotly-graph-div\" style=\"height:525px; width:100%;\"></div>            <script type=\"text/javascript\">                require([\"plotly\"], function(Plotly) {                    window.PLOTLYENV=window.PLOTLYENV || {};                                    if (document.getElementById(\"947cd159-3877-457e-b30b-ae554b78f719\")) {                    Plotly.newPlot(                        \"947cd159-3877-457e-b30b-ae554b78f719\",                        [{\"alignmentgroup\":\"True\",\"hovertemplate\":\"Manufacturer=%{x}<br>mean price=%{y}<extra></extra>\",\"legendgroup\":\"\",\"marker\":{\"color\":\"#1F77B4\",\"pattern\":{\"shape\":\"\"}},\"name\":\"\",\"offsetgroup\":\"\",\"orientation\":\"v\",\"showlegend\":false,\"textposition\":\"auto\",\"x\":[\"ACURA\",\"AUDI\",\"BMW\",\"BUICK\",\"CADILLAC\",\"CHEVROLET\",\"CHRYSLER\",\"DAEWOO\",\"DAIHATSU\",\"DODGE\",\"FIAT\",\"FORD\",\"GAZ\",\"GMC\",\"HONDA\",\"HYUNDAI\",\"INFINITI\",\"JAGUAR\",\"JEEP\",\"KIA\",\"LAND ROVER\",\"LEXUS\",\"LINCOLN\",\"MAZDA\",\"MERCEDES-BENZ\",\"MINI\",\"MITSUBISHI\",\"NISSAN\",\"OPEL\",\"PEUGEOT\",\"PORSCHE\",\"RENAULT\",\"SKODA\",\"SSANGYONG\",\"SUBARU\",\"SUZUKI\",\"TOYOTA\",\"UAZ\",\"VAZ\",\"VOLKSWAGEN\",\"VOLVO\"],\"xaxis\":\"x\",\"y\":[5910.933333333333,14106.545098039216,20876.79218303146,11074.375,13514.5,14926.368568755846,8631.538461538461,6973.142857142857,5402.7692307692305,8458.45054945055,11186.064102564103,15573.98199819982,10481.666666666666,6831.4,14291.335721596724,22338.447864154947,19774.8,34408.78571428572,25409.427536231884,15251.477434679335,54053.489795918365,19191.27698574338,13651.6,9533.245901639344,18609.38294797688,17135.520833333332,13146.975778546714,10032.327272727272,7057.651515151515,13470.117647058823,47106.03703703704,11464.351351351352,15079.8,30894.637188208617,9998.698181818181,11833.105263157895,14248.982250136538,5290.75,4613.583333333333,11640.421416234887,10278.894736842105],\"yaxis\":\"y\",\"type\":\"bar\"}],                        {\"template\":{\"data\":{\"barpolar\":[{\"marker\":{\"line\":{\"color\":\"white\",\"width\":0.5},\"pattern\":{\"fillmode\":\"overlay\",\"size\":10,\"solidity\":0.2}},\"type\":\"barpolar\"}],\"bar\":[{\"error_x\":{\"color\":\"rgb(36,36,36)\"},\"error_y\":{\"color\":\"rgb(36,36,36)\"},\"marker\":{\"line\":{\"color\":\"white\",\"width\":0.5},\"pattern\":{\"fillmode\":\"overlay\",\"size\":10,\"solidity\":0.2}},\"type\":\"bar\"}],\"carpet\":[{\"aaxis\":{\"endlinecolor\":\"rgb(36,36,36)\",\"gridcolor\":\"white\",\"linecolor\":\"white\",\"minorgridcolor\":\"white\",\"startlinecolor\":\"rgb(36,36,36)\"},\"baxis\":{\"endlinecolor\":\"rgb(36,36,36)\",\"gridcolor\":\"white\",\"linecolor\":\"white\",\"minorgridcolor\":\"white\",\"startlinecolor\":\"rgb(36,36,36)\"},\"type\":\"carpet\"}],\"choropleth\":[{\"colorbar\":{\"outlinewidth\":1,\"tickcolor\":\"rgb(36,36,36)\",\"ticks\":\"outside\"},\"type\":\"choropleth\"}],\"contourcarpet\":[{\"colorbar\":{\"outlinewidth\":1,\"tickcolor\":\"rgb(36,36,36)\",\"ticks\":\"outside\"},\"type\":\"contourcarpet\"}],\"contour\":[{\"colorbar\":{\"outlinewidth\":1,\"tickcolor\":\"rgb(36,36,36)\",\"ticks\":\"outside\"},\"colorscale\":[[0.0,\"#440154\"],[0.1111111111111111,\"#482878\"],[0.2222222222222222,\"#3e4989\"],[0.3333333333333333,\"#31688e\"],[0.4444444444444444,\"#26828e\"],[0.5555555555555556,\"#1f9e89\"],[0.6666666666666666,\"#35b779\"],[0.7777777777777778,\"#6ece58\"],[0.8888888888888888,\"#b5de2b\"],[1.0,\"#fde725\"]],\"type\":\"contour\"}],\"heatmapgl\":[{\"colorbar\":{\"outlinewidth\":1,\"tickcolor\":\"rgb(36,36,36)\",\"ticks\":\"outside\"},\"colorscale\":[[0.0,\"#440154\"],[0.1111111111111111,\"#482878\"],[0.2222222222222222,\"#3e4989\"],[0.3333333333333333,\"#31688e\"],[0.4444444444444444,\"#26828e\"],[0.5555555555555556,\"#1f9e89\"],[0.6666666666666666,\"#35b779\"],[0.7777777777777778,\"#6ece58\"],[0.8888888888888888,\"#b5de2b\"],[1.0,\"#fde725\"]],\"type\":\"heatmapgl\"}],\"heatmap\":[{\"colorbar\":{\"outlinewidth\":1,\"tickcolor\":\"rgb(36,36,36)\",\"ticks\":\"outside\"},\"colorscale\":[[0.0,\"#440154\"],[0.1111111111111111,\"#482878\"],[0.2222222222222222,\"#3e4989\"],[0.3333333333333333,\"#31688e\"],[0.4444444444444444,\"#26828e\"],[0.5555555555555556,\"#1f9e89\"],[0.6666666666666666,\"#35b779\"],[0.7777777777777778,\"#6ece58\"],[0.8888888888888888,\"#b5de2b\"],[1.0,\"#fde725\"]],\"type\":\"heatmap\"}],\"histogram2dcontour\":[{\"colorbar\":{\"outlinewidth\":1,\"tickcolor\":\"rgb(36,36,36)\",\"ticks\":\"outside\"},\"colorscale\":[[0.0,\"#440154\"],[0.1111111111111111,\"#482878\"],[0.2222222222222222,\"#3e4989\"],[0.3333333333333333,\"#31688e\"],[0.4444444444444444,\"#26828e\"],[0.5555555555555556,\"#1f9e89\"],[0.6666666666666666,\"#35b779\"],[0.7777777777777778,\"#6ece58\"],[0.8888888888888888,\"#b5de2b\"],[1.0,\"#fde725\"]],\"type\":\"histogram2dcontour\"}],\"histogram2d\":[{\"colorbar\":{\"outlinewidth\":1,\"tickcolor\":\"rgb(36,36,36)\",\"ticks\":\"outside\"},\"colorscale\":[[0.0,\"#440154\"],[0.1111111111111111,\"#482878\"],[0.2222222222222222,\"#3e4989\"],[0.3333333333333333,\"#31688e\"],[0.4444444444444444,\"#26828e\"],[0.5555555555555556,\"#1f9e89\"],[0.6666666666666666,\"#35b779\"],[0.7777777777777778,\"#6ece58\"],[0.8888888888888888,\"#b5de2b\"],[1.0,\"#fde725\"]],\"type\":\"histogram2d\"}],\"histogram\":[{\"marker\":{\"line\":{\"color\":\"white\",\"width\":0.6}},\"type\":\"histogram\"}],\"mesh3d\":[{\"colorbar\":{\"outlinewidth\":1,\"tickcolor\":\"rgb(36,36,36)\",\"ticks\":\"outside\"},\"type\":\"mesh3d\"}],\"parcoords\":[{\"line\":{\"colorbar\":{\"outlinewidth\":1,\"tickcolor\":\"rgb(36,36,36)\",\"ticks\":\"outside\"}},\"type\":\"parcoords\"}],\"pie\":[{\"automargin\":true,\"type\":\"pie\"}],\"scatter3d\":[{\"line\":{\"colorbar\":{\"outlinewidth\":1,\"tickcolor\":\"rgb(36,36,36)\",\"ticks\":\"outside\"}},\"marker\":{\"colorbar\":{\"outlinewidth\":1,\"tickcolor\":\"rgb(36,36,36)\",\"ticks\":\"outside\"}},\"type\":\"scatter3d\"}],\"scattercarpet\":[{\"marker\":{\"colorbar\":{\"outlinewidth\":1,\"tickcolor\":\"rgb(36,36,36)\",\"ticks\":\"outside\"}},\"type\":\"scattercarpet\"}],\"scattergeo\":[{\"marker\":{\"colorbar\":{\"outlinewidth\":1,\"tickcolor\":\"rgb(36,36,36)\",\"ticks\":\"outside\"}},\"type\":\"scattergeo\"}],\"scattergl\":[{\"marker\":{\"colorbar\":{\"outlinewidth\":1,\"tickcolor\":\"rgb(36,36,36)\",\"ticks\":\"outside\"}},\"type\":\"scattergl\"}],\"scattermapbox\":[{\"marker\":{\"colorbar\":{\"outlinewidth\":1,\"tickcolor\":\"rgb(36,36,36)\",\"ticks\":\"outside\"}},\"type\":\"scattermapbox\"}],\"scatterpolargl\":[{\"marker\":{\"colorbar\":{\"outlinewidth\":1,\"tickcolor\":\"rgb(36,36,36)\",\"ticks\":\"outside\"}},\"type\":\"scatterpolargl\"}],\"scatterpolar\":[{\"marker\":{\"colorbar\":{\"outlinewidth\":1,\"tickcolor\":\"rgb(36,36,36)\",\"ticks\":\"outside\"}},\"type\":\"scatterpolar\"}],\"scatter\":[{\"fillpattern\":{\"fillmode\":\"overlay\",\"size\":10,\"solidity\":0.2},\"type\":\"scatter\"}],\"scatterternary\":[{\"marker\":{\"colorbar\":{\"outlinewidth\":1,\"tickcolor\":\"rgb(36,36,36)\",\"ticks\":\"outside\"}},\"type\":\"scatterternary\"}],\"surface\":[{\"colorbar\":{\"outlinewidth\":1,\"tickcolor\":\"rgb(36,36,36)\",\"ticks\":\"outside\"},\"colorscale\":[[0.0,\"#440154\"],[0.1111111111111111,\"#482878\"],[0.2222222222222222,\"#3e4989\"],[0.3333333333333333,\"#31688e\"],[0.4444444444444444,\"#26828e\"],[0.5555555555555556,\"#1f9e89\"],[0.6666666666666666,\"#35b779\"],[0.7777777777777778,\"#6ece58\"],[0.8888888888888888,\"#b5de2b\"],[1.0,\"#fde725\"]],\"type\":\"surface\"}],\"table\":[{\"cells\":{\"fill\":{\"color\":\"rgb(237,237,237)\"},\"line\":{\"color\":\"white\"}},\"header\":{\"fill\":{\"color\":\"rgb(217,217,217)\"},\"line\":{\"color\":\"white\"}},\"type\":\"table\"}]},\"layout\":{\"annotationdefaults\":{\"arrowhead\":0,\"arrowwidth\":1},\"autotypenumbers\":\"strict\",\"coloraxis\":{\"colorbar\":{\"outlinewidth\":1,\"tickcolor\":\"rgb(36,36,36)\",\"ticks\":\"outside\"}},\"colorscale\":{\"diverging\":[[0.0,\"rgb(103,0,31)\"],[0.1,\"rgb(178,24,43)\"],[0.2,\"rgb(214,96,77)\"],[0.3,\"rgb(244,165,130)\"],[0.4,\"rgb(253,219,199)\"],[0.5,\"rgb(247,247,247)\"],[0.6,\"rgb(209,229,240)\"],[0.7,\"rgb(146,197,222)\"],[0.8,\"rgb(67,147,195)\"],[0.9,\"rgb(33,102,172)\"],[1.0,\"rgb(5,48,97)\"]],\"sequential\":[[0.0,\"#440154\"],[0.1111111111111111,\"#482878\"],[0.2222222222222222,\"#3e4989\"],[0.3333333333333333,\"#31688e\"],[0.4444444444444444,\"#26828e\"],[0.5555555555555556,\"#1f9e89\"],[0.6666666666666666,\"#35b779\"],[0.7777777777777778,\"#6ece58\"],[0.8888888888888888,\"#b5de2b\"],[1.0,\"#fde725\"]],\"sequentialminus\":[[0.0,\"#440154\"],[0.1111111111111111,\"#482878\"],[0.2222222222222222,\"#3e4989\"],[0.3333333333333333,\"#31688e\"],[0.4444444444444444,\"#26828e\"],[0.5555555555555556,\"#1f9e89\"],[0.6666666666666666,\"#35b779\"],[0.7777777777777778,\"#6ece58\"],[0.8888888888888888,\"#b5de2b\"],[1.0,\"#fde725\"]]},\"colorway\":[\"#1F77B4\",\"#FF7F0E\",\"#2CA02C\",\"#D62728\",\"#9467BD\",\"#8C564B\",\"#E377C2\",\"#7F7F7F\",\"#BCBD22\",\"#17BECF\"],\"font\":{\"color\":\"rgb(36,36,36)\"},\"geo\":{\"bgcolor\":\"white\",\"lakecolor\":\"white\",\"landcolor\":\"white\",\"showlakes\":true,\"showland\":true,\"subunitcolor\":\"white\"},\"hoverlabel\":{\"align\":\"left\"},\"hovermode\":\"closest\",\"mapbox\":{\"style\":\"light\"},\"paper_bgcolor\":\"white\",\"plot_bgcolor\":\"white\",\"polar\":{\"angularaxis\":{\"gridcolor\":\"rgb(232,232,232)\",\"linecolor\":\"rgb(36,36,36)\",\"showgrid\":false,\"showline\":true,\"ticks\":\"outside\"},\"bgcolor\":\"white\",\"radialaxis\":{\"gridcolor\":\"rgb(232,232,232)\",\"linecolor\":\"rgb(36,36,36)\",\"showgrid\":false,\"showline\":true,\"ticks\":\"outside\"}},\"scene\":{\"xaxis\":{\"backgroundcolor\":\"white\",\"gridcolor\":\"rgb(232,232,232)\",\"gridwidth\":2,\"linecolor\":\"rgb(36,36,36)\",\"showbackground\":true,\"showgrid\":false,\"showline\":true,\"ticks\":\"outside\",\"zeroline\":false,\"zerolinecolor\":\"rgb(36,36,36)\"},\"yaxis\":{\"backgroundcolor\":\"white\",\"gridcolor\":\"rgb(232,232,232)\",\"gridwidth\":2,\"linecolor\":\"rgb(36,36,36)\",\"showbackground\":true,\"showgrid\":false,\"showline\":true,\"ticks\":\"outside\",\"zeroline\":false,\"zerolinecolor\":\"rgb(36,36,36)\"},\"zaxis\":{\"backgroundcolor\":\"white\",\"gridcolor\":\"rgb(232,232,232)\",\"gridwidth\":2,\"linecolor\":\"rgb(36,36,36)\",\"showbackground\":true,\"showgrid\":false,\"showline\":true,\"ticks\":\"outside\",\"zeroline\":false,\"zerolinecolor\":\"rgb(36,36,36)\"}},\"shapedefaults\":{\"fillcolor\":\"black\",\"line\":{\"width\":0},\"opacity\":0.3},\"ternary\":{\"aaxis\":{\"gridcolor\":\"rgb(232,232,232)\",\"linecolor\":\"rgb(36,36,36)\",\"showgrid\":false,\"showline\":true,\"ticks\":\"outside\"},\"baxis\":{\"gridcolor\":\"rgb(232,232,232)\",\"linecolor\":\"rgb(36,36,36)\",\"showgrid\":false,\"showline\":true,\"ticks\":\"outside\"},\"bgcolor\":\"white\",\"caxis\":{\"gridcolor\":\"rgb(232,232,232)\",\"linecolor\":\"rgb(36,36,36)\",\"showgrid\":false,\"showline\":true,\"ticks\":\"outside\"}},\"title\":{\"x\":0.05},\"xaxis\":{\"automargin\":true,\"gridcolor\":\"rgb(232,232,232)\",\"linecolor\":\"rgb(36,36,36)\",\"showgrid\":false,\"showline\":true,\"ticks\":\"outside\",\"title\":{\"standoff\":15},\"zeroline\":false,\"zerolinecolor\":\"rgb(36,36,36)\"},\"yaxis\":{\"automargin\":true,\"gridcolor\":\"rgb(232,232,232)\",\"linecolor\":\"rgb(36,36,36)\",\"showgrid\":false,\"showline\":true,\"ticks\":\"outside\",\"title\":{\"standoff\":15},\"zeroline\":false,\"zerolinecolor\":\"rgb(36,36,36)\"}}},\"xaxis\":{\"anchor\":\"y\",\"domain\":[0.0,1.0],\"title\":{\"text\":\"Manufacturer\"}},\"yaxis\":{\"anchor\":\"x\",\"domain\":[0.0,1.0],\"title\":{\"text\":\"mean price\"}},\"legend\":{\"tracegroupgap\":0},\"title\":{\"text\":\"Mean car manufacture price\"},\"barmode\":\"relative\"},                        {\"responsive\": true}                    ).then(function(){\n",
       "                            \n",
       "var gd = document.getElementById('947cd159-3877-457e-b30b-ae554b78f719');\n",
       "var x = new MutationObserver(function (mutations, observer) {{\n",
       "        var display = window.getComputedStyle(gd).display;\n",
       "        if (!display || display === 'none') {{\n",
       "            console.log([gd, 'removed!']);\n",
       "            Plotly.purge(gd);\n",
       "            observer.disconnect();\n",
       "        }}\n",
       "}});\n",
       "\n",
       "// Listen for the removal of the full notebook cells\n",
       "var notebookContainer = gd.closest('#notebook-container');\n",
       "if (notebookContainer) {{\n",
       "    x.observe(notebookContainer, {childList: true});\n",
       "}}\n",
       "\n",
       "// Listen for the clearing of the current output cell\n",
       "var outputEl = gd.closest('.output');\n",
       "if (outputEl) {{\n",
       "    x.observe(outputEl, {childList: true});\n",
       "}}\n",
       "\n",
       "                        })                };                });            </script>        </div>"
      ]
     },
     "metadata": {},
     "output_type": "display_data"
    }
   ],
   "source": [
    "px.bar(x=df_price_more_than_10.index,\n",
    "       y=df_price_more_than_10.values,\n",
    "       title=\"Mean car manufacture price\",\n",
    "       template=\"simple_white\",\n",
    "      labels={\"x\":\"Manufacturer\",\"y\":\"mean price\"})\n"
   ]
  },
  {
   "cell_type": "code",
   "execution_count": null,
   "id": "3c8305f7",
   "metadata": {
    "papermill": {
     "duration": 0.012899,
     "end_time": "2022-07-07T21:02:33.856424",
     "exception": false,
     "start_time": "2022-07-07T21:02:33.843525",
     "status": "completed"
    },
    "tags": []
   },
   "outputs": [],
   "source": []
  },
  {
   "cell_type": "markdown",
   "id": "c3ef5073",
   "metadata": {
    "papermill": {
     "duration": 0.013275,
     "end_time": "2022-07-07T21:02:33.882805",
     "exception": false,
     "start_time": "2022-07-07T21:02:33.869530",
     "status": "completed"
    },
    "tags": []
   },
   "source": [
    "Compared to previous charts no large outliers change the overall view of the chart"
   ]
  },
  {
   "cell_type": "markdown",
   "id": "59029136",
   "metadata": {
    "papermill": {
     "duration": 0.012849,
     "end_time": "2022-07-07T21:02:33.909320",
     "exception": false,
     "start_time": "2022-07-07T21:02:33.896471",
     "status": "completed"
    },
    "tags": []
   },
   "source": [
    "## First Inspection\n",
    "\n",
    "as we can see from the above descriptions and overviews the dataset consists of 18 columns.\n",
    "- 13 are Strings\n",
    "- 5 are Numeric (4 Int, 1 float)"
   ]
  },
  {
   "cell_type": "code",
   "execution_count": 24,
   "id": "17997c2c",
   "metadata": {
    "execution": {
     "iopub.execute_input": "2022-07-07T21:02:33.938338Z",
     "iopub.status.busy": "2022-07-07T21:02:33.937638Z",
     "iopub.status.idle": "2022-07-07T21:02:33.944752Z",
     "shell.execute_reply": "2022-07-07T21:02:33.943689Z"
    },
    "papermill": {
     "duration": 0.02457,
     "end_time": "2022-07-07T21:02:33.947065",
     "exception": false,
     "start_time": "2022-07-07T21:02:33.922495",
     "status": "completed"
    },
    "tags": []
   },
   "outputs": [
    {
     "data": {
      "text/plain": [
       "Index(['ID', 'Price', 'Levy', 'Manufacturer', 'Model', 'Prod. year',\n",
       "       'Category', 'Leather interior', 'Fuel type', 'Engine volume', 'Mileage',\n",
       "       'Cylinders', 'Gear box type', 'Drive wheels', 'Doors', 'Wheel', 'Color',\n",
       "       'Airbags'],\n",
       "      dtype='object')"
      ]
     },
     "execution_count": 24,
     "metadata": {},
     "output_type": "execute_result"
    }
   ],
   "source": [
    "df.columns"
   ]
  },
  {
   "cell_type": "code",
   "execution_count": 25,
   "id": "2de3793c",
   "metadata": {
    "execution": {
     "iopub.execute_input": "2022-07-07T21:02:33.975273Z",
     "iopub.status.busy": "2022-07-07T21:02:33.974903Z",
     "iopub.status.idle": "2022-07-07T21:02:33.985850Z",
     "shell.execute_reply": "2022-07-07T21:02:33.984674Z"
    },
    "papermill": {
     "duration": 0.028327,
     "end_time": "2022-07-07T21:02:33.988531",
     "exception": false,
     "start_time": "2022-07-07T21:02:33.960204",
     "status": "completed"
    },
    "tags": []
   },
   "outputs": [
    {
     "data": {
      "text/plain": [
       "Petrol            10150\n",
       "Diesel             4035\n",
       "Hybrid             3578\n",
       "LPG                 892\n",
       "CNG                 494\n",
       "Plug-in Hybrid       86\n",
       "Hydrogen              1\n",
       "Name: Fuel type, dtype: int64"
      ]
     },
     "execution_count": 25,
     "metadata": {},
     "output_type": "execute_result"
    }
   ],
   "source": [
    "df['Fuel type'].value_counts()"
   ]
  },
  {
   "cell_type": "code",
   "execution_count": 26,
   "id": "105c3265",
   "metadata": {
    "execution": {
     "iopub.execute_input": "2022-07-07T21:02:34.018022Z",
     "iopub.status.busy": "2022-07-07T21:02:34.017656Z",
     "iopub.status.idle": "2022-07-07T21:02:34.050512Z",
     "shell.execute_reply": "2022-07-07T21:02:34.048493Z"
    },
    "papermill": {
     "duration": 0.051807,
     "end_time": "2022-07-07T21:02:34.054015",
     "exception": false,
     "start_time": "2022-07-07T21:02:34.002208",
     "status": "completed"
    },
    "tags": []
   },
   "outputs": [
    {
     "name": "stdout",
     "output_type": "stream",
     "text": [
      "Automatic    13514\n",
      "Tiptronic     3102\n",
      "Manual        1874\n",
      "Variator       746\n",
      "Name: Gear box type, dtype: int64\n",
      "Front    12873\n",
      "4x4       4058\n",
      "Rear      2305\n",
      "Name: Drive wheels, dtype: int64\n",
      "04-May    18332\n",
      "02-Mar      776\n",
      ">5          128\n",
      "Name: Doors, dtype: int64\n",
      "Left wheel          17752\n",
      "Right-hand drive     1484\n",
      "Name: Wheel, dtype: int64\n",
      "Black            5033\n",
      "White            4489\n",
      "Silver           3792\n",
      "Grey             2375\n",
      "Blue             1395\n",
      "Red               639\n",
      "Green             322\n",
      "Orange            253\n",
      "Brown             187\n",
      "Carnelian red     179\n",
      "Golden            145\n",
      "Beige             134\n",
      "Sky blue          122\n",
      "Yellow            106\n",
      "Purple             39\n",
      "Pink               26\n",
      "Name: Color, dtype: int64\n",
      "Sedan          8736\n",
      "Jeep           5473\n",
      "Hatchback      2847\n",
      "Minivan         647\n",
      "Coupe           532\n",
      "Universal       364\n",
      "Microbus        306\n",
      "Goods wagon     232\n",
      "Pickup           52\n",
      "Cabriolet        36\n",
      "Limousine        11\n",
      "Name: Category, dtype: int64\n",
      "Yes    13954\n",
      "No      5282\n",
      "Name: Leather interior, dtype: int64\n",
      "Petrol            10150\n",
      "Diesel             4035\n",
      "Hybrid             3578\n",
      "LPG                 892\n",
      "CNG                 494\n",
      "Plug-in Hybrid       86\n",
      "Hydrogen              1\n",
      "Name: Fuel type, dtype: int64\n"
     ]
    }
   ],
   "source": [
    "def value_count(col):\n",
    "    return df[col].value_counts()\n",
    "\n",
    "\n",
    "for i in ['Gear box type', 'Drive wheels', 'Doors', 'Wheel', 'Color','Category', 'Leather interior', 'Fuel type']:\n",
    "    print(value_count(i))"
   ]
  },
  {
   "cell_type": "markdown",
   "id": "57211afb",
   "metadata": {
    "papermill": {
     "duration": 0.012966,
     "end_time": "2022-07-07T21:02:34.080668",
     "exception": false,
     "start_time": "2022-07-07T21:02:34.067702",
     "status": "completed"
    },
    "tags": []
   },
   "source": [
    "The door values is wrong needs to be changed to 2.5 and 4.5."
   ]
  },
  {
   "cell_type": "code",
   "execution_count": 27,
   "id": "537ee59d",
   "metadata": {
    "execution": {
     "iopub.execute_input": "2022-07-07T21:02:34.109639Z",
     "iopub.status.busy": "2022-07-07T21:02:34.108554Z",
     "iopub.status.idle": "2022-07-07T21:02:34.129844Z",
     "shell.execute_reply": "2022-07-07T21:02:34.128712Z"
    },
    "papermill": {
     "duration": 0.03805,
     "end_time": "2022-07-07T21:02:34.132011",
     "exception": false,
     "start_time": "2022-07-07T21:02:34.093961",
     "status": "completed"
    },
    "tags": []
   },
   "outputs": [
    {
     "data": {
      "text/plain": [
       "4.5    18332\n",
       "2.5      776\n",
       ">5       128\n",
       "Name: Doors, dtype: int64"
      ]
     },
     "execution_count": 27,
     "metadata": {},
     "output_type": "execute_result"
    }
   ],
   "source": [
    "def change_door(val):\n",
    "    if val == \"04-May\":\n",
    "        return 4.5\n",
    "    elif val ==\"02-Mar\":\n",
    "        return 2.5\n",
    "    else:\n",
    "        return val\n",
    "df['Doors'] = df['Doors'].apply(lambda x: change_door(x))\n",
    "df['Doors'].value_counts()"
   ]
  },
  {
   "cell_type": "code",
   "execution_count": null,
   "id": "7057a216",
   "metadata": {
    "papermill": {
     "duration": 0.013302,
     "end_time": "2022-07-07T21:02:34.158605",
     "exception": false,
     "start_time": "2022-07-07T21:02:34.145303",
     "status": "completed"
    },
    "tags": []
   },
   "outputs": [],
   "source": []
  }
 ],
 "metadata": {
  "kernelspec": {
   "display_name": "Python 3",
   "language": "python",
   "name": "python3"
  },
  "language_info": {
   "codemirror_mode": {
    "name": "ipython",
    "version": 3
   },
   "file_extension": ".py",
   "mimetype": "text/x-python",
   "name": "python",
   "nbconvert_exporter": "python",
   "pygments_lexer": "ipython3",
   "version": "3.7.12"
  },
  "papermill": {
   "default_parameters": {},
   "duration": 20.380364,
   "end_time": "2022-07-07T21:02:35.095426",
   "environment_variables": {},
   "exception": null,
   "input_path": "__notebook__.ipynb",
   "output_path": "__notebook__.ipynb",
   "parameters": {},
   "start_time": "2022-07-07T21:02:14.715062",
   "version": "2.3.4"
  }
 },
 "nbformat": 4,
 "nbformat_minor": 5
}
